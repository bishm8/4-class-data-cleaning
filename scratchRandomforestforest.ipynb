{
  "cells": [
    {
      "cell_type": "markdown",
      "source": [
        "##**UTILITY FUNCTIONS**"
      ],
      "metadata": {
        "id": "JNo5kiTv2TNT"
      }
    },
    {
      "cell_type": "code",
      "source": [
        "import numpy as np\n",
        "import pandas as pd\n",
        "import warnings\n",
        "from typing import List, Tuple, Dict\n",
        "\n",
        "\n",
        "def split_data(X, y, test_size=0.1, seed=None):\n",
        "    # shuffle data\n",
        "    np.random.seed(seed)\n",
        "    perm = np.random.permutation(X.index)\n",
        "    X = X.loc[perm]\n",
        "    y = y.loc[perm]\n",
        "    \n",
        "    # split into training and test sets\n",
        "    n_samples = X.shape[0]\n",
        "    if isinstance(test_size, float):\n",
        "        if test_size <= 0 or test_size >= 1:\n",
        "            raise ValueError(\"The test size should fall in the range (0,1)\")\n",
        "        n_train = n_samples - round(test_size*n_samples)\n",
        "    elif isinstance(test_size, int):\n",
        "        n_train = n_samples - test_size\n",
        "    else:\n",
        "        raise ValueError(\"Improper type \\'%s\\' for test_size\" % type(test_size))\n",
        "\n",
        "    X_train = X[:n_train]\n",
        "    y_train = y[:n_train]\n",
        "    X_test = X[n_train:]\n",
        "    y_test = y[n_train:]\n",
        "\n",
        "    return X_train, X_test, y_train, y_test\n",
        "\n",
        "def encode_one_hot(data): # note: pd.get_dummies(df) does the same\n",
        "    # https://www.kite.com/python/answers/how-to-do-one-hot-encoding-with-numpy-in-python\n",
        "    one_hot = np.zeros((data.size, data.max()+1))\n",
        "    rows = np.arange(data.size)\n",
        "    one_hot[rows, data] = 1\n",
        "    return one_hot\n",
        "\n",
        "def check_RandomState(random_state):\n",
        "    \"\"\" Parse different input types for the random state\"\"\"\n",
        "    if  random_state is None: \n",
        "        rng = np.random.RandomState() \n",
        "    elif isinstance(random_state, int): \n",
        "        # seed the random state with this integer\n",
        "        rng = np.random.RandomState(random_state) \n",
        "    elif isinstance(random_state, np.random.RandomState):\n",
        "        rng = random_state\n",
        "    else:\n",
        "        raise ValueError (\"improper type \\'%s\\' for random_state parameter\" % type(random_state))\n",
        "    return rng\n",
        "\n",
        "def check_sample_size(sample_size, n_samples: int):\n",
        "    if sample_size is None:\n",
        "        n = n_samples\n",
        "    elif isinstance(sample_size, int):\n",
        "        if sample_size == 1:\n",
        "            warnings.warn(\"Interpreting sample_size as 1 sample. Use sample_size=1.0 for 100% of the data\")\n",
        "        n = min(sample_size, n_samples)\n",
        "    elif isinstance(sample_size, float):\n",
        "        frac = min(sample_size, 1)\n",
        "        n = int(frac*n_samples)\n",
        "    else:\n",
        "        raise ValueError(\"Improper type \\'%s\\' for sample_size\" %type(sample_size))\n",
        "    return n\n",
        "\n",
        "def confusion_matrix(y_actual, y_pred):\n",
        "    \"\"\" Returns a confusion matrix where the rows are the actual classes, and the columns are the predicted classes\"\"\"\n",
        "    if y_actual.shape != y_pred.shape:\n",
        "        raise ValueError (\"input arrays must have the same shape, {}!={}\".format(y_actual.shape, y_pred.shape))\n",
        "    n = max(max(y_actual), max(y_pred)) + 1\n",
        "    C = np.zeros((n, n), dtype=int)\n",
        "    for label_actual in range(n):\n",
        "        idxs_true = (y_actual == label_actual)\n",
        "        for label_pred in range(n):\n",
        "            C[label_actual, label_pred] = sum(y_pred[idxs_true] == label_pred)\n",
        "    return C\n",
        "\n",
        "def calc_f1_score(y_actual, y_pred) -> Tuple[float]:\n",
        "    C = confusion_matrix(y_actual, y_pred)\n",
        "    if C.shape[0] != 2:\n",
        "        raise ValueError (\"input arrays must only have binary values\")\n",
        "    recall    = C[1][1]/(C[1][0]+C[1][1]) #true positive/actual positive\n",
        "    precision = C[1][1]/(C[0][1]+C[1][1]) #true positive/predicted positive\n",
        "    if (recall == 0) or (precision == 0):\n",
        "        f1 = 0\n",
        "    else:\n",
        "        f1 = 2 * recall*precision/(recall + precision) # = 2/((1/recall)+(1/precision))\n",
        "\n",
        "    print(\"Recall: {:.4f}\".format(recall))\n",
        "    print(\"Precision: {:.4f}\".format(precision))\n",
        "    print(\"F1 Score: {:.4f}\".format(f1))\n"
      ],
      "metadata": {
        "id": "YNrYpT4xqwWH"
      },
      "execution_count": 837,
      "outputs": []
    },
    {
      "cell_type": "markdown",
      "source": [
        "##**DECISION TREE FUNCTIONS**"
      ],
      "metadata": {
        "id": "0PvMK6cTmtXz"
      }
    },
    {
      "cell_type": "code",
      "source": [
        "import warnings\n",
        "def gini_score(counts: List[int]) -> float: \n",
        "    score = 1\n",
        "    n = sum(counts)\n",
        "    for c in counts:\n",
        "        p = c/n\n",
        "        score -= p*p\n",
        "    return score\n",
        "\n",
        "class DecisionTree:\n",
        "    def __init__(self, max_depth=None, max_features=None, min_samples_leaf=1, random_state=None):\n",
        "        self.max_depth = max_depth\n",
        "        self.max_features = max_features\n",
        "        self.min_samples_leaf = min_samples_leaf\n",
        "        self.RandomState = check_RandomState(random_state)\n",
        "\n",
        "        # initialise internal variables\n",
        "        self.tree_ = BinaryTree() \n",
        "        self.n_samples = []\n",
        "        self.values = []\n",
        "        self.impurities = []\n",
        "        self.split_features = []\n",
        "        self.split_values = []\n",
        "        self.n_features = None\n",
        "        self.n_classes = None\n",
        "        self.features = None\n",
        "        self.size = 0 # current node = size - 1\n",
        "        \n",
        "    def fit(self, X, Y):\n",
        "        if Y.ndim == 1:\n",
        "            Y = encode_one_hot(Y) # one-hot encoded y variable\n",
        "        elif Y.shape[1] == 1:\n",
        "            Y = encode_one_hot(Y) # one-hot encoded y variable\n",
        "\n",
        "        # set internal variables\n",
        "        self.n_features = X.shape[1]\n",
        "        self.n_classes = Y.shape[1]\n",
        "        self.features = X.columns\n",
        "        self.max_depth_ = float('inf') if self.max_depth is None else self.max_depth\n",
        "        if self.max_features is not None:\n",
        "            if self.max_features is 'sqrt':\n",
        "                n = int(np.sqrt(self.n_features))\n",
        "            elif isinstance(self.max_features, int):\n",
        "                n = min(self.max_features, self.n_features)\n",
        "            else:\n",
        "                raise Exception('Unknown parameter \\'%s\\' for max_features' % self.max_features)\n",
        "        else:\n",
        "            n = self.n_features \n",
        "        self.n_features_split = n\n",
        "\n",
        "        # initial split which recursively calls itself\n",
        "        self._split_node(X, Y) \n",
        "\n",
        "        # set attributes\n",
        "        self.feature_importances_ = self.impurity_feature_importance()\n",
        "        self.depths = self.tree_.find_depths()\n",
        "\n",
        "    def get_n_splits(self) -> int:\n",
        "        \"The number of nodes (number of parameters/2) not counting the leaves in the tree\"\n",
        "        return self.tree_.n_splits\n",
        "    \n",
        "    def get_n_leaves(self) -> int:\n",
        "        \"The number of leaves (nodes without children) in the tree\"\n",
        "        return self.tree_.n_leaves\n",
        "\n",
        "    def get_max_depth(self) -> int:\n",
        "        \"The maximum depth in the tree\"\n",
        "        return self.tree_.get_max_depth(0)\n",
        "\n",
        "    def is_leaf(self, node_id: int) -> bool:\n",
        "        return self.tree_.is_leaf(node_id)\n",
        "    \n",
        "    def split_name(self, node_id: int) -> str:\n",
        "        return self.features[self.split_features[node_id]]\n",
        "\n",
        "    def _set_defaults(self, node_id: int, Y):\n",
        "        val = Y.sum(axis=0)\n",
        "        self.values.append(val)\n",
        "        self.impurities.append(gini_score(val))\n",
        "        self.split_features.append(None)\n",
        "        self.split_values.append(None)\n",
        "        self.n_samples.append(Y.shape[0])\n",
        "        self.tree_.add_node()\n",
        "    \n",
        "    def _split_node(self, X0, Y0):\n",
        "        stack = [(X0, Y0, -1, -1, 0)] # stack = [(X, Y, parent, side, depth)]\n",
        "        while stack:\n",
        "            X, Y, parent, side, depth = stack.pop()\n",
        "            node_id = self.size\n",
        "            self.size += 1\n",
        "            self._set_defaults(node_id, Y)\n",
        "            if side is 0:\n",
        "                self.tree_.set_left_child(parent, node_id)\n",
        "            elif side is 1:\n",
        "                self.tree_.set_right_child(parent, node_id)\n",
        "            if self.impurities[node_id] == 0: # only one class in this node\n",
        "                continue\n",
        "            \n",
        "            # random shuffling removes any bias due to the feature order\n",
        "            features = self.RandomState.permutation(self.n_features)[:self.n_features_split]\n",
        "\n",
        "            # make the split\n",
        "            best_score = float('inf')\n",
        "            for i in features:\n",
        "                best_score= self._find_bettersplit(i, X, Y, node_id, best_score)\n",
        "            if best_score == float('inf'):\n",
        "                continue\n",
        "\n",
        "\n",
        "            # make children\n",
        "            if depth < self.max_depth_: \n",
        "                x_split = X.values[:, self.split_features[node_id]]\n",
        "                lhs = np.nonzero(x_split<=self.split_values[node_id])\n",
        "                rhs = np.nonzero(x_split> self.split_values[node_id])\n",
        "                stack.append((X.iloc[rhs], Y[rhs[0], :], node_id, 1, depth+1)) # right first in, last out\n",
        "                stack.append((X.iloc[lhs], Y[lhs[0], :], node_id, 0, depth+1)) # left first out\n",
        "\n",
        "    \n",
        "    def _find_bettersplit(self, var_idx: int, X, Y, node_id: int, best_score:float) -> float:\n",
        "        X = X.values[:, var_idx] \n",
        "        n_samples = self.n_samples[node_id]\n",
        "\n",
        "        # sort the variables. \n",
        "        order = np.argsort(X)\n",
        "        X_sort, Y_sort = X[order], Y[order, :]\n",
        "\n",
        "        #Start with all on the right. Then move one sample to left one at a time\n",
        "        rhs_count = Y.sum(axis=0)\n",
        "        lhs_count = np.zeros(rhs_count.shape)\n",
        "        for i in range(0, len(X_sort)-1):\n",
        "            xi, yi = X_sort[i], Y_sort[i, :]\n",
        "            lhs_count += yi;  rhs_count -= yi\n",
        "            if (xi == X_sort[i+1]) or (sum(lhs_count) < self.min_samples_leaf):\n",
        "                continue\n",
        "            if sum(rhs_count) < self.min_samples_leaf:\n",
        "                break\n",
        "            # Gini Impurity\n",
        "            lhs_gini = gini_score(lhs_count)\n",
        "            rhs_gini = gini_score(rhs_count)\n",
        "            curr_score = (lhs_gini * lhs_count.sum() + rhs_gini * rhs_count.sum())/n_samples\n",
        "            if curr_score < best_score:\n",
        "                self.split_features[node_id] = var_idx\n",
        "                best_score = curr_score\n",
        "                self.split_values[node_id]= (xi + X_sort[i+1])/2\n",
        "        return best_score\n",
        "\n",
        "    def _predict_row(self, xi):\n",
        "        next_node = 0\n",
        "        while not self.is_leaf(next_node):\n",
        "            left, right = self.tree_.get_children(next_node)\n",
        "            next_node = left if xi[self.split_features[next_node]] <= self.split_values[next_node] else right\n",
        "        return self.values[next_node]\n",
        "\n",
        "    def _predict_batch(self, X, node=0):\n",
        "        # Helper function for predict_prob(). Predicts multiple batches of a row at time. Faster than _predict_row(self, xi)\n",
        "        if self.is_leaf(node):\n",
        "            return self.values[node]\n",
        "        if len(X) == 0:\n",
        "            return np.empty((0, self.n_classes))\n",
        "        left, right = self.tree_.get_children(node)\n",
        "\n",
        "        lhs = X[:, self.split_features[node]] <= self.split_values[node]\n",
        "        rhs = X[:, self.split_features[node]] >  self.split_values[node]\n",
        "\n",
        "        probs = np.zeros((X.shape[0], self.n_classes))\n",
        "        probs[lhs] = self._predict_batch(X[lhs], node=left)\n",
        "        probs[rhs] = self._predict_batch(X[rhs], node=right)\n",
        "        return probs\n",
        "\n",
        "    def predict_prob(self, X):\n",
        "        \"Return the probability in the final leaf for each class, given as the fraction of each class in that leaf\"\n",
        "        if X.values.ndim == 1:\n",
        "            probs = np.array([self._predict_row(X)])\n",
        "        else:\n",
        "            #start_time = time.time()\n",
        "            #probs = np.apply_along_axis(self._predict_row, 1, X.values) # slow because this is a for loop\n",
        "            probs = self._predict_batch(X.values)\n",
        "            #end_time = time.time()\n",
        "            #print('%.1fms' % ((end_time-start_time)*1000))\n",
        "            probs /= np.sum(probs, axis=1)[:, None]\n",
        "        return probs\n",
        "\n",
        "    def predict(self, X):\n",
        "        \"Return the most likely class in the final leaf\"\n",
        "        probs = self.predict_prob(X)\n",
        "        return np.nanargmax(probs, axis=1)\n",
        "\n",
        "    def predict_count(self, X):\n",
        "        \"Return the sample count in the final leaf for each class\"\n",
        "        if X.values.ndim == 1:\n",
        "            return np.array([self._predict_row(X.values)])\n",
        "        return np.apply_along_axis(self._predict_row, 1, X.values)\n",
        "\n",
        "    def impurity_feature_importance(self):\n",
        "        \"\"\"Calculate feature importance weighted by the number of samples affected by this feature at each split point. \"\"\"\n",
        "        feature_importances = np.zeros(self.n_features)\n",
        "        total_samples = self.n_samples[0]\n",
        "        for node in range(len(self.impurities)):\n",
        "            if self.is_leaf(node):\n",
        "                continue \n",
        "            spit_feature = self.split_features[node]\n",
        "            impurity = self.impurities[node]\n",
        "            n_samples = self.n_samples[node]\n",
        "            # calculate score\n",
        "            left, right = self.tree_.get_children(node)\n",
        "            lhs_gini = self.impurities[left]\n",
        "            rhs_gini = self.impurities[right]\n",
        "            lhs_count = self.n_samples[left]\n",
        "            rhs_count = self.n_samples[right]\n",
        "            score = (lhs_gini * lhs_count + rhs_gini * rhs_count)/n_samples\n",
        "            # feature_importances      = (decrease in node impurity) * (probability of reaching node ~ proportion of samples)\n",
        "            feature_importances[spit_feature] += (impurity-score) * (n_samples/total_samples)\n",
        "\n",
        "        feature_importances = feature_importances/feature_importances.sum()\n",
        "        return feature_importances\n",
        "\n",
        "    def get_info(self, node_id: int):\n",
        "        n_samples =  self.n_samples[node_id]\n",
        "        val =        self.values[node_id]\n",
        "        impurity =   self.impurities[node_id]\n",
        "        var_idx    = self.split_features[node_id]\n",
        "        split_val  = self.split_values[node_id]\n",
        "        if self.is_leaf(node_id):\n",
        "            return n_samples, val, impurity\n",
        "        else:\n",
        "            return n_samples, val, var_idx, split_val, impurity\n",
        "\n",
        "    def node_to_string(self, node_id: int) -> str:\n",
        "        if self.is_leaf(node_id):\n",
        "            n_samples, val, impurity = self.get_info(node_id)\n",
        "            s = 'n_samples: {:d}; value: {}; impurity: {:.4f}'.format(n_samples, val.astype(int), impurity)\n",
        "        else:\n",
        "            n_samples, val, var_idx, split_val, impurity = self.get_info(node_id)\n",
        "            split_name = self.split_name(node_id)\n",
        "            s =  'n_samples: {:d}; value: {}; impurity: {:.4f}'.format(n_samples, val.astype(int), impurity)\n",
        "            s += '; split: {}<={:.3f}'.format(split_name, split_val)\n",
        "        return s\n",
        "  \n",
        "\n",
        "class BinaryTree():\n",
        "    def __init__(self):\n",
        "        self.children_left = []\n",
        "        self.children_right = []\n",
        "\n",
        "    @property\n",
        "    def size(self):\n",
        "        \"The number of nodes in the tree\"\n",
        "        return len(self.children_left)\n",
        "\n",
        "    @property\n",
        "    def n_leaves(self):\n",
        "        \"The number of leaves (nodes without children) in the tree\"\n",
        "        return self.children_left.count(-1) \n",
        "\n",
        "    @property\n",
        "    def n_splits(self):\n",
        "        \"The number of nodes (number of parameters/2) not counting the leaves in the tree\"\n",
        "        return self.size - self.n_leaves\n",
        "\n",
        "    def add_node(self):\n",
        "        self.children_left.append(-1)\n",
        "        self.children_right.append(-1)\n",
        "    \n",
        "    def set_left_child(self, node_id: int, child_id: int):\n",
        "        self.children_left[node_id] = child_id\n",
        "\n",
        "    def set_right_child(self, node_id: int, child_id: int):\n",
        "        self.children_right[node_id] = child_id\n",
        "\n",
        "    def get_children(self, node_id: int): return self.children_left[node_id], self.children_right[node_id]\n",
        "\n",
        "    def find_depths(self):\n",
        "        depths = np.zeros(self.size, dtype=int)\n",
        "        depths[0] = -1\n",
        "        stack = [(0, 0)] # (parent, node_id)\n",
        "        while stack:\n",
        "            parent, node_id = stack.pop()\n",
        "            if node_id == -1:\n",
        "                continue\n",
        "            depths[node_id] = depths[parent] + 1\n",
        "            left = self.children_left[node_id]\n",
        "            right = self.children_right[node_id]\n",
        "            stack.extend([(node_id, left), (node_id, right)])\n",
        "        return depths\n",
        "\n",
        "    def is_leaf(self, node_id: int):\n",
        "        left = self.children_left[node_id]\n",
        "        right = self.children_right[node_id]\n",
        "        return right == left #(left == -1) and (right == -1)\n",
        "\n",
        "    def get_max_depth(self, node_id=0):\n",
        "        \"Calculate the maximum depth of the tree\"\n",
        "        if self.is_leaf(node_id):\n",
        "            return 0 \n",
        "        left = self.children_left[node_id]\n",
        "        right = self.children_right[node_id]\n",
        "        return max(self.get_max_depth(left), self.get_max_depth(right)) + 1\n",
        "\n",
        "    def preorder(self, node_id=0):\n",
        "        \"Pre-order tree traversal\"\n",
        "        # Note: the parallel arrays are already in pre-order\n",
        "        # Therefore can just return np.arange(self.size)\n",
        "        if node_id != -1:\n",
        "            yield node_id\n",
        "        left = self.children_left[node_id]\n",
        "        right = self.children_right[node_id]\n",
        "        if left != -1:\n",
        "            for leaf in self.preorder(left):\n",
        "                yield leaf\n",
        "        if right != -1:\n",
        "            for leaf in self.preorder(right):\n",
        "                yield leaf"
      ],
      "metadata": {
        "id": "ePRkCjQqlciK",
        "outputId": "e03af9e8-0379-4eee-f356-4de41b0ed2a6",
        "colab": {
          "base_uri": "https://localhost:8080/"
        }
      },
      "execution_count": 838,
      "outputs": [
        {
          "output_type": "stream",
          "name": "stderr",
          "text": [
            "<>:41: SyntaxWarning: \"is\" with a literal. Did you mean \"==\"?\n",
            "<>:92: SyntaxWarning: \"is\" with a literal. Did you mean \"==\"?\n",
            "<>:94: SyntaxWarning: \"is\" with a literal. Did you mean \"==\"?\n",
            "<>:41: SyntaxWarning: \"is\" with a literal. Did you mean \"==\"?\n",
            "<>:92: SyntaxWarning: \"is\" with a literal. Did you mean \"==\"?\n",
            "<>:94: SyntaxWarning: \"is\" with a literal. Did you mean \"==\"?\n",
            "<ipython-input-838-f1f57d74268e>:41: SyntaxWarning: \"is\" with a literal. Did you mean \"==\"?\n",
            "  if self.max_features is 'sqrt':\n",
            "<ipython-input-838-f1f57d74268e>:92: SyntaxWarning: \"is\" with a literal. Did you mean \"==\"?\n",
            "  if side is 0:\n",
            "<ipython-input-838-f1f57d74268e>:94: SyntaxWarning: \"is\" with a literal. Did you mean \"==\"?\n",
            "  elif side is 1:\n"
          ]
        }
      ]
    },
    {
      "cell_type": "markdown",
      "source": [
        "##**RANDOM FOREST FUNCTION**"
      ],
      "metadata": {
        "id": "xWlFPEw9lb-q"
      }
    },
    {
      "cell_type": "code",
      "source": [
        "import numpy as np\n",
        "import pandas as pd\n",
        "import warnings\n",
        "import time\n",
        "from typing import List, Tuple, Dict\n",
        "\n",
        "class RandomForestClassifier:\n",
        "    def __init__(self, \n",
        "                n_trees=100, \n",
        "                random_state=None, \n",
        "                max_depth=None, \n",
        "                max_features=None, \n",
        "                min_samples_leaf=1,\n",
        "                sample_size=None, \n",
        "                bootstrap=True, \n",
        "                oob_score=False):\n",
        "        self.n_trees = n_trees\n",
        "        self.RandomState = check_RandomState(random_state)\n",
        "        self.max_depth = max_depth\n",
        "        self.max_features = max_features\n",
        "        self.min_samples_leaf=min_samples_leaf\n",
        "        self.sample_size = sample_size\n",
        "        self.bootstrap = bootstrap\n",
        "        self.oob_score = oob_score\n",
        "\n",
        "        self.features = None\n",
        "        self.n_features = None\n",
        "        self.n_classes = None\n",
        "        self.feature_importances_ = None\n",
        "        \n",
        "    def fit(self, X, Y):\n",
        "        \"fit the random tree to the independent variable X, to determine the dependent variable Y\"\n",
        "        if Y.ndim == 1:\n",
        "            Y = encode_one_hot(Y) # one-hot encoded y variable\n",
        "        elif Y.shape[1] == 1:\n",
        "            Y = encode_one_hot(Y) # one-hot encoded y variable\n",
        "\n",
        "        # set internal variables\n",
        "        self.n_features = X.shape[1]\n",
        "        self.n_classes = Y.shape[1]\n",
        "        self.features = X.columns.values\n",
        "        n_samples = X.shape[0]\n",
        "        self.sample_size_ = check_sample_size(self.sample_size, n_samples)\n",
        "\n",
        "        # create decision trees\n",
        "        self.trees = []\n",
        "        rng_states = [] # save the random states to regenerate the random indices for the oob_score\n",
        "        for i in range(self.n_trees):\n",
        "            rng_states.append(self.RandomState.get_state())\n",
        "            self.trees.append(self._create_tree(X, Y))\n",
        "\n",
        "        # set attributes\n",
        "        self.feature_importances_ = self.impurity_feature_importances()\n",
        "        if self.oob_score:\n",
        "            if not (self.bootstrap or (self.sample_size_<n_samples)):\n",
        "                warnings.warn(\"out-of-bag score will not be calculated because bootstrap=False\")\n",
        "            else:\n",
        "                self.oob_score_ = self.calculate_oob_score(X, Y, rng_states)\n",
        "    \n",
        "    def _create_tree(self, X, Y):\n",
        "        assert len(X) == len(Y), \"\"\n",
        "        n_samples = X.shape[0]\n",
        "\n",
        "        # get sub-sample \n",
        "        if self.bootstrap:\n",
        "            rand_idxs = self.RandomState.randint(0, n_samples, self.sample_size_) # with replacement\n",
        "            X_, Y_ = X.iloc[rand_idxs, :], Y[rand_idxs] # approximate unique values =n*(1-np.exp(-sample_size_/n_samples))\n",
        "        elif self.sample_size_ < n_samples:\n",
        "            rand_idxs = self.RandomState.permutation(np.arange(n_samples))[:self.sample_size_]  # without replacement\n",
        "            X_, Y_ = X.iloc[rand_idxs, :], Y[rand_idxs]\n",
        "        else:\n",
        "            X_, Y_ = X.copy(), Y.copy() # do nothing to the data\n",
        "\n",
        "        new_tree =  DecisionTree(max_depth=self.max_depth, \n",
        "                                 max_features=self.max_features,\n",
        "                                 random_state=self.RandomState,\n",
        "                                 min_samples_leaf=self.min_samples_leaf\n",
        "                                )\n",
        "        new_tree.fit(X_, Y_)\n",
        "        return new_tree\n",
        "                \n",
        "    def predict(self, X):\n",
        "        \"Predict the class for each sample in X\"\n",
        "        probs = np.sum([t.predict_prob(X) for t in self.trees], axis=0)\n",
        "        #probs = np.sum([t.predict_count(X) for t in self.trees], axis=0)\n",
        "        return np.nanargmax(probs, axis=1)\n",
        "\n",
        "    def score(self, X, y):\n",
        "        \"The accuracy score of random forest predictions for X to the true classes y\"\n",
        "        y_pred = self.predict(X)\n",
        "        return np.mean(y_pred==y)\n",
        "\n",
        "    def calculate_oob_score(self, X, Y, rng_states):\n",
        "        n_samples = X.shape[0]\n",
        "        oob_prob = np.zeros(Y.shape)\n",
        "        oob_count = np.zeros(n_samples)\n",
        "        all_samples = np.arange(n_samples)\n",
        "        rng = np.random.RandomState()\n",
        "        for i, state in enumerate(rng_states):\n",
        "            rng.set_state(state)\n",
        "            if self.bootstrap:\n",
        "                rand_idxs = rng.randint(0, n_samples, self.sample_size_)\n",
        "            else: #self.sample_size_ < n_samples\n",
        "                rand_idxs = rng.permutation(all_samples)[:self.sample_size_]\n",
        "            row_oob = np.setxor1d(all_samples, rand_idxs)\n",
        "            oob_prob[row_oob, :] += self.trees[i].predict_prob(X.iloc[row_oob])\n",
        "            oob_count[row_oob] += 1\n",
        "        # remove nan-values\n",
        "        valid = oob_count > 0 \n",
        "        oob_prob = oob_prob[valid, :]\n",
        "        oob_count = oob_count[valid][:, np.newaxis] # transform to column vector for broadcasting during the division\n",
        "        y_test    =  np.argmax(Y[valid], axis=1)\n",
        "        # predict out-of-bag score\n",
        "        y_pred = np.argmax(oob_prob/oob_count, axis=1)\n",
        "        return np.mean(y_pred==y_test)\n",
        "\n",
        "    def impurity_feature_importances(self) -> np.ndarray:\n",
        "        \"\"\"Calculate feature importance weighted by the number of samples affected by this feature at each split point. \"\"\"\n",
        "        feature_importances = np.zeros((self.n_trees, self.n_features))\n",
        "\n",
        "        for i, tree in enumerate(self.trees):\n",
        "            feature_importances[i, :] = tree.feature_importances_\n",
        "\n",
        "        return np.mean(feature_importances, axis=0)"
      ],
      "metadata": {
        "id": "C-KCDwSSf6U7"
      },
      "execution_count": 839,
      "outputs": []
    },
    {
      "cell_type": "markdown",
      "source": [
        "#**CHECKING ON DATASETS**"
      ],
      "metadata": {
        "id": "dBYnKvk3nUAn"
      }
    },
    {
      "cell_type": "markdown",
      "source": [
        "##**TITANIC DATASET(BINARY CLASSIFICATION)**"
      ],
      "metadata": {
        "id": "ey-nUbE15SpP"
      }
    },
    {
      "cell_type": "code",
      "source": [
        "import numpy as np\n",
        "import pandas as pd\n",
        "import matplotlib.pyplot as plt\n",
        "import seaborn as sns\n",
        "import random\n",
        "%matplotlib inline"
      ],
      "metadata": {
        "id": "ziAZcx6GoHmd"
      },
      "execution_count": 840,
      "outputs": []
    },
    {
      "cell_type": "code",
      "source": [
        "df = pd.read_csv(\"/content/TitanicData.csv\")\n",
        "# handling missing values\n",
        "median_age = df.Age.median()\n",
        "df = df.fillna({\"Age\": median_age})\n",
        "df.head()"
      ],
      "metadata": {
        "colab": {
          "base_uri": "https://localhost:8080/",
          "height": 0
        },
        "id": "UKBDqCgAxy0A",
        "outputId": "62985ee8-743f-4f37-8a01-ba67de5e6509"
      },
      "execution_count": 841,
      "outputs": [
        {
          "output_type": "execute_result",
          "data": {
            "text/plain": [
              "   Survived  Pclass   Age  SibSp  Parch     Fare  male\n",
              "0         0       3  22.0      1      0   7.2500     1\n",
              "1         1       1  38.0      1      0  71.2833     0\n",
              "2         1       3  26.0      0      0   7.9250     0\n",
              "3         1       1  35.0      1      0  53.1000     0\n",
              "4         0       3  35.0      0      0   8.0500     1"
            ],
            "text/html": [
              "\n",
              "  <div id=\"df-524f94ae-1877-42f0-afe7-6190c504301d\">\n",
              "    <div class=\"colab-df-container\">\n",
              "      <div>\n",
              "<style scoped>\n",
              "    .dataframe tbody tr th:only-of-type {\n",
              "        vertical-align: middle;\n",
              "    }\n",
              "\n",
              "    .dataframe tbody tr th {\n",
              "        vertical-align: top;\n",
              "    }\n",
              "\n",
              "    .dataframe thead th {\n",
              "        text-align: right;\n",
              "    }\n",
              "</style>\n",
              "<table border=\"1\" class=\"dataframe\">\n",
              "  <thead>\n",
              "    <tr style=\"text-align: right;\">\n",
              "      <th></th>\n",
              "      <th>Survived</th>\n",
              "      <th>Pclass</th>\n",
              "      <th>Age</th>\n",
              "      <th>SibSp</th>\n",
              "      <th>Parch</th>\n",
              "      <th>Fare</th>\n",
              "      <th>male</th>\n",
              "    </tr>\n",
              "  </thead>\n",
              "  <tbody>\n",
              "    <tr>\n",
              "      <th>0</th>\n",
              "      <td>0</td>\n",
              "      <td>3</td>\n",
              "      <td>22.0</td>\n",
              "      <td>1</td>\n",
              "      <td>0</td>\n",
              "      <td>7.2500</td>\n",
              "      <td>1</td>\n",
              "    </tr>\n",
              "    <tr>\n",
              "      <th>1</th>\n",
              "      <td>1</td>\n",
              "      <td>1</td>\n",
              "      <td>38.0</td>\n",
              "      <td>1</td>\n",
              "      <td>0</td>\n",
              "      <td>71.2833</td>\n",
              "      <td>0</td>\n",
              "    </tr>\n",
              "    <tr>\n",
              "      <th>2</th>\n",
              "      <td>1</td>\n",
              "      <td>3</td>\n",
              "      <td>26.0</td>\n",
              "      <td>0</td>\n",
              "      <td>0</td>\n",
              "      <td>7.9250</td>\n",
              "      <td>0</td>\n",
              "    </tr>\n",
              "    <tr>\n",
              "      <th>3</th>\n",
              "      <td>1</td>\n",
              "      <td>1</td>\n",
              "      <td>35.0</td>\n",
              "      <td>1</td>\n",
              "      <td>0</td>\n",
              "      <td>53.1000</td>\n",
              "      <td>0</td>\n",
              "    </tr>\n",
              "    <tr>\n",
              "      <th>4</th>\n",
              "      <td>0</td>\n",
              "      <td>3</td>\n",
              "      <td>35.0</td>\n",
              "      <td>0</td>\n",
              "      <td>0</td>\n",
              "      <td>8.0500</td>\n",
              "      <td>1</td>\n",
              "    </tr>\n",
              "  </tbody>\n",
              "</table>\n",
              "</div>\n",
              "      <button class=\"colab-df-convert\" onclick=\"convertToInteractive('df-524f94ae-1877-42f0-afe7-6190c504301d')\"\n",
              "              title=\"Convert this dataframe to an interactive table.\"\n",
              "              style=\"display:none;\">\n",
              "        \n",
              "  <svg xmlns=\"http://www.w3.org/2000/svg\" height=\"24px\"viewBox=\"0 0 24 24\"\n",
              "       width=\"24px\">\n",
              "    <path d=\"M0 0h24v24H0V0z\" fill=\"none\"/>\n",
              "    <path d=\"M18.56 5.44l.94 2.06.94-2.06 2.06-.94-2.06-.94-.94-2.06-.94 2.06-2.06.94zm-11 1L8.5 8.5l.94-2.06 2.06-.94-2.06-.94L8.5 2.5l-.94 2.06-2.06.94zm10 10l.94 2.06.94-2.06 2.06-.94-2.06-.94-.94-2.06-.94 2.06-2.06.94z\"/><path d=\"M17.41 7.96l-1.37-1.37c-.4-.4-.92-.59-1.43-.59-.52 0-1.04.2-1.43.59L10.3 9.45l-7.72 7.72c-.78.78-.78 2.05 0 2.83L4 21.41c.39.39.9.59 1.41.59.51 0 1.02-.2 1.41-.59l7.78-7.78 2.81-2.81c.8-.78.8-2.07 0-2.86zM5.41 20L4 18.59l7.72-7.72 1.47 1.35L5.41 20z\"/>\n",
              "  </svg>\n",
              "      </button>\n",
              "      \n",
              "  <style>\n",
              "    .colab-df-container {\n",
              "      display:flex;\n",
              "      flex-wrap:wrap;\n",
              "      gap: 12px;\n",
              "    }\n",
              "\n",
              "    .colab-df-convert {\n",
              "      background-color: #E8F0FE;\n",
              "      border: none;\n",
              "      border-radius: 50%;\n",
              "      cursor: pointer;\n",
              "      display: none;\n",
              "      fill: #1967D2;\n",
              "      height: 32px;\n",
              "      padding: 0 0 0 0;\n",
              "      width: 32px;\n",
              "    }\n",
              "\n",
              "    .colab-df-convert:hover {\n",
              "      background-color: #E2EBFA;\n",
              "      box-shadow: 0px 1px 2px rgba(60, 64, 67, 0.3), 0px 1px 3px 1px rgba(60, 64, 67, 0.15);\n",
              "      fill: #174EA6;\n",
              "    }\n",
              "\n",
              "    [theme=dark] .colab-df-convert {\n",
              "      background-color: #3B4455;\n",
              "      fill: #D2E3FC;\n",
              "    }\n",
              "\n",
              "    [theme=dark] .colab-df-convert:hover {\n",
              "      background-color: #434B5C;\n",
              "      box-shadow: 0px 1px 3px 1px rgba(0, 0, 0, 0.15);\n",
              "      filter: drop-shadow(0px 1px 2px rgba(0, 0, 0, 0.3));\n",
              "      fill: #FFFFFF;\n",
              "    }\n",
              "  </style>\n",
              "\n",
              "      <script>\n",
              "        const buttonEl =\n",
              "          document.querySelector('#df-524f94ae-1877-42f0-afe7-6190c504301d button.colab-df-convert');\n",
              "        buttonEl.style.display =\n",
              "          google.colab.kernel.accessAllowed ? 'block' : 'none';\n",
              "\n",
              "        async function convertToInteractive(key) {\n",
              "          const element = document.querySelector('#df-524f94ae-1877-42f0-afe7-6190c504301d');\n",
              "          const dataTable =\n",
              "            await google.colab.kernel.invokeFunction('convertToInteractive',\n",
              "                                                     [key], {});\n",
              "          if (!dataTable) return;\n",
              "\n",
              "          const docLinkHtml = 'Like what you see? Visit the ' +\n",
              "            '<a target=\"_blank\" href=https://colab.research.google.com/notebooks/data_table.ipynb>data table notebook</a>'\n",
              "            + ' to learn more about interactive tables.';\n",
              "          element.innerHTML = '';\n",
              "          dataTable['output_type'] = 'display_data';\n",
              "          await google.colab.output.renderOutput(dataTable, element);\n",
              "          const docLink = document.createElement('div');\n",
              "          docLink.innerHTML = docLinkHtml;\n",
              "          element.appendChild(docLink);\n",
              "        }\n",
              "      </script>\n",
              "    </div>\n",
              "  </div>\n",
              "  "
            ]
          },
          "metadata": {},
          "execution_count": 841
        }
      ]
    },
    {
      "cell_type": "code",
      "source": [
        "# TARGET DISTRIBUTION PLOT\n",
        "print(df['Survived'].value_counts()) \n",
        "plt.style.use('fivethirtyeight')\n",
        "ax = sns.countplot(x=df['Survived'], data=df, hue=df['Survived'])"
      ],
      "metadata": {
        "colab": {
          "base_uri": "https://localhost:8080/",
          "height": 0
        },
        "id": "5Tcx2EkGxyw4",
        "outputId": "c2f3f2ba-6548-47b1-e071-8acb7c712dd3"
      },
      "execution_count": 842,
      "outputs": [
        {
          "output_type": "stream",
          "name": "stdout",
          "text": [
            "0    424\n",
            "1    288\n",
            "Name: Survived, dtype: int64\n"
          ]
        },
        {
          "output_type": "display_data",
          "data": {
            "text/plain": [
              "<Figure size 432x288 with 1 Axes>"
            ],
            "image/png": "[encoded data removed]"
          },
          "metadata": {}
        }
      ]
    },
    {
      "cell_type": "markdown",
      "source": [
        "####**OUTLIERS TREATMENT**"
      ],
      "metadata": {
        "id": "oWo6queMZzqz"
      }
    },
    {
      "cell_type": "code",
      "source": [
        "sns.boxplot(df['Fare'],data=df)"
      ],
      "metadata": {
        "colab": {
          "base_uri": "https://localhost:8080/",
          "height": 0
        },
        "id": "LIMMSSQtT7IC",
        "outputId": "265a61c8-df70-4cd9-871a-c48d0c674d59"
      },
      "execution_count": 843,
      "outputs": [
        {
          "output_type": "stream",
          "name": "stderr",
          "text": [
            "/usr/local/lib/python3.8/dist-packages/seaborn/_decorators.py:36: FutureWarning: Pass the following variable as a keyword arg: x. From version 0.12, the only valid positional argument will be `data`, and passing other arguments without an explicit keyword will result in an error or misinterpretation.\n",
            "  warnings.warn(\n"
          ]
        },
        {
          "output_type": "execute_result",
          "data": {
            "text/plain": [
              "<AxesSubplot:xlabel='Fare'>"
            ]
          },
          "metadata": {},
          "execution_count": 843
        },
        {
          "output_type": "display_data",
          "data": {
            "text/plain": [
              "<Figure size 432x288 with 1 Axes>"
            ],
            "image/png": "[encoded data removed]"
          },
          "metadata": {}
        }
      ]
    },
    {
      "cell_type": "code",
      "source": [
        "sns.boxplot(df['Age'],data=df)"
      ],
      "metadata": {
        "colab": {
          "base_uri": "https://localhost:8080/",
          "height": 0
        },
        "id": "CuLjwO6SOVf5",
        "outputId": "30e11a2f-87b4-44f4-92b2-fcaf044b1d1e"
      },
      "execution_count": 844,
      "outputs": [
        {
          "output_type": "stream",
          "name": "stderr",
          "text": [
            "/usr/local/lib/python3.8/dist-packages/seaborn/_decorators.py:36: FutureWarning: Pass the following variable as a keyword arg: x. From version 0.12, the only valid positional argument will be `data`, and passing other arguments without an explicit keyword will result in an error or misinterpretation.\n",
            "  warnings.warn(\n"
          ]
        },
        {
          "output_type": "execute_result",
          "data": {
            "text/plain": [
              "<AxesSubplot:xlabel='Age'>"
            ]
          },
          "metadata": {},
          "execution_count": 844
        },
        {
          "output_type": "display_data",
          "data": {
            "text/plain": [
              "<Figure size 432x288 with 1 Axes>"
            ],
            "image/png": "[encoded data removed]"
          },
          "metadata": {}
        }
      ]
    },
    {
      "cell_type": "code",
      "source": [
        "#TREATMENT1: Trimming/removing outliers above and below percentiles\n",
        "Q1 = df['Fare'].quantile(0.25)\n",
        "Q3 = df['Fare'].quantile(0.75)\n",
        "IQR = Q3 - Q1\n",
        "whisker_width = 1.5\n",
        "lower_whisker = Q1 -(whisker_width*IQR)\n",
        "upper_whisker = Q3 + (whisker_width*IQR)\n",
        "df['Fare']=np.where(df['Fare']>upper_whisker,upper_whisker,np.where(df['Fare']<lower_whisker,lower_whisker,df['Fare']))"
      ],
      "metadata": {
        "id": "o9H7_fjdS_ol"
      },
      "execution_count": 845,
      "outputs": []
    },
    {
      "cell_type": "code",
      "source": [
        "sns.boxplot(df['Fare'],data=df)"
      ],
      "metadata": {
        "colab": {
          "base_uri": "https://localhost:8080/",
          "height": 0
        },
        "id": "qJ8VuNGoY9Q9",
        "outputId": "2f676b12-238f-418e-9d81-b27589bb7695"
      },
      "execution_count": 846,
      "outputs": [
        {
          "output_type": "stream",
          "name": "stderr",
          "text": [
            "/usr/local/lib/python3.8/dist-packages/seaborn/_decorators.py:36: FutureWarning: Pass the following variable as a keyword arg: x. From version 0.12, the only valid positional argument will be `data`, and passing other arguments without an explicit keyword will result in an error or misinterpretation.\n",
            "  warnings.warn(\n"
          ]
        },
        {
          "output_type": "execute_result",
          "data": {
            "text/plain": [
              "<AxesSubplot:xlabel='Fare'>"
            ]
          },
          "metadata": {},
          "execution_count": 846
        },
        {
          "output_type": "display_data",
          "data": {
            "text/plain": [
              "<Figure size 432x288 with 1 Axes>"
            ],
            "image/png": "[encoded data removed]"
          },
          "metadata": {}
        }
      ]
    },
    {
      "cell_type": "code",
      "source": [
        "#TREATMENT2: Replacing outliers with median values\n",
        "median = df.loc[df['Age']<65, 'Age'].median()\n",
        "df.loc[df.Age > 65, 'Age'] \n",
        "df.fillna(median,inplace=True)\n",
        "df[\"Age\"] = df[\"Age\"].mask(df[\"Age\"] >60, median)"
      ],
      "metadata": {
        "id": "UidjUpVHTGgQ"
      },
      "execution_count": 847,
      "outputs": []
    },
    {
      "cell_type": "code",
      "source": [
        "sns.boxplot(df['Age'],data=df)"
      ],
      "metadata": {
        "colab": {
          "base_uri": "https://localhost:8080/",
          "height": 0
        },
        "id": "FjKp209bZEZy",
        "outputId": "d7a41154-edf2-4dea-f282-bafd0f92322e"
      },
      "execution_count": 848,
      "outputs": [
        {
          "output_type": "stream",
          "name": "stderr",
          "text": [
            "/usr/local/lib/python3.8/dist-packages/seaborn/_decorators.py:36: FutureWarning: Pass the following variable as a keyword arg: x. From version 0.12, the only valid positional argument will be `data`, and passing other arguments without an explicit keyword will result in an error or misinterpretation.\n",
            "  warnings.warn(\n"
          ]
        },
        {
          "output_type": "execute_result",
          "data": {
            "text/plain": [
              "<AxesSubplot:xlabel='Age'>"
            ]
          },
          "metadata": {},
          "execution_count": 848
        },
        {
          "output_type": "display_data",
          "data": {
            "text/plain": [
              "<Figure size 432x288 with 1 Axes>"
            ],
            "image/png": "[encoded data removed]"
          },
          "metadata": {}
        }
      ]
    },
    {
      "cell_type": "markdown",
      "source": [
        "###**MODEL BUILDING AND PREDICTIONS**"
      ],
      "metadata": {
        "id": "uqb3PMP2y5rR"
      }
    },
    {
      "cell_type": "code",
      "source": [
        "X=df.drop(['Survived'],axis=1)\n",
        "y=df.Survived"
      ],
      "metadata": {
        "id": "71lAmQfexyt3"
      },
      "execution_count": 849,
      "outputs": []
    },
    {
      "cell_type": "code",
      "source": [
        "X_train, X_test, y_train, y_test = split_data(X, y, test_size=0.2)"
      ],
      "metadata": {
        "id": "WKEDGyVrxyrJ"
      },
      "execution_count": 850,
      "outputs": []
    },
    {
      "cell_type": "code",
      "source": [
        "X_train.shape,y_train.shape,X_test.shape,y_test.shape"
      ],
      "metadata": {
        "colab": {
          "base_uri": "https://localhost:8080/"
        },
        "id": "QaeOMhuDxyoY",
        "outputId": "17d41f98-4b55-4cb8-9230-87045edfb760"
      },
      "execution_count": 851,
      "outputs": [
        {
          "output_type": "execute_result",
          "data": {
            "text/plain": [
              "((570, 6), (570,), (142, 6), (142,))"
            ]
          },
          "metadata": {},
          "execution_count": 851
        }
      ]
    },
    {
      "cell_type": "code",
      "source": [
        "rfc = RandomForestClassifier(n_trees=10, bootstrap=True, max_features=5, min_samples_leaf=3,random_state=123)\n",
        "rfc.fit(X_train, y_train)\n",
        "acc_test = rfc.score(X_test, y_test)\n",
        "acc_train = rfc.score(X_train, y_train)\n",
        "y_train_pred= rfc.predict(X_train)\n",
        "y_pred= rfc.predict(X_test)\n",
        "print(\"Random Forest model\")\n",
        "print(\"train accuracy: %.2f%%\" % (acc_train*100))\n",
        "print(\"test accuracy:  %.2f%%\" % (acc_test*100))"
      ],
      "metadata": {
        "colab": {
          "base_uri": "https://localhost:8080/"
        },
        "id": "VIwNxVghxyja",
        "outputId": "3191450c-36f2-4bcd-a5f6-cb36942cdb6f"
      },
      "execution_count": 852,
      "outputs": [
        {
          "output_type": "stream",
          "name": "stdout",
          "text": [
            "Random Forest model\n",
            "train accuracy: 91.58%\n",
            "test accuracy:  84.51%\n"
          ]
        }
      ]
    },
    {
      "cell_type": "markdown",
      "source": [
        "####**MODEL EVALUATION**"
      ],
      "metadata": {
        "id": "fBbauw5y5oOd"
      }
    },
    {
      "cell_type": "code",
      "source": [
        "def calculate_accuracy(predictions, labels):\n",
        "    predictions_correct = predictions == labels\n",
        "    accuracy = predictions_correct.mean()\n",
        "    \n",
        "    return accuracy\n",
        "def precision(y_true, y_pred):\n",
        "    true_positives = sum((y_true == 1) & (y_pred == 1))\n",
        "    false_positives = sum((y_true == 0) & (y_pred == 1))\n",
        "    precision = true_positives / (true_positives + false_positives + 1e-7)\n",
        "    return precision\n",
        "\n",
        "\n",
        "def recall(y_true, y_pred):\n",
        "    true_positives = sum((y_true == 1) & (y_pred == 1))\n",
        "    false_negative = sum((y_true == 1) & (y_pred == 0))\n",
        "    recall = true_positives / (true_positives + false_negative + 1e-7) \n",
        "    return recall\n",
        "\n",
        "def f1_score(y_true, y_pred):\n",
        "    tp = sum((y_true == 1) & (y_pred == 1))\n",
        "    fp = sum((y_true == 0) & (y_pred == 1))\n",
        "    tn = sum((y_true == 0) & (y_pred == 0))\n",
        "    fn = sum((y_true == 1) & (y_pred == 0))\n",
        "    precision = tp / (tp + fp + 1e-7)\n",
        "    recall = tp / (tp + fn + 1e-7)\n",
        "    f1_score = 2 * (precision * recall) / (precision + recall + 1e-7)\n",
        "    return f1_score\n",
        "\n",
        "\n",
        "# getting all the performane metrics and stored it in a dataframe\n",
        "\n",
        "scores = pd.DataFrame(columns=['Model','Train_Accuracy','Train_Recall','Train_Precision','Train_F1_Score','Test_Accuracy','Test_Recall','Test_Precision','Test_F1_Score'])\n",
        "\n",
        "def get_metrics(train_actual,train_predicted,test_actual,test_predicted,model_description,dataframe):\n",
        "    train_accuracy = calculate_accuracy(train_actual,train_predicted)\n",
        "    train_recall   = recall(train_actual,train_predicted)\n",
        "    train_precision= precision(train_actual,train_predicted)\n",
        "    train_f1score  = f1_score(train_actual,train_predicted)\n",
        "    test_accuracy = calculate_accuracy(test_actual,test_predicted)\n",
        "    test_recall   = recall(test_actual,test_predicted)\n",
        "    test_precision= precision(test_actual,test_predicted)\n",
        "    test_f1score  = f1_score(test_actual,test_predicted)\n",
        "    dataframe = dataframe.append(pd.Series([model_description, train_accuracy,train_recall,train_precision,train_f1score,\n",
        "                                            test_accuracy,test_recall,test_precision,test_f1score],\n",
        "                                           index=scores.columns ), ignore_index=True)\n",
        "    return(dataframe)"
      ],
      "metadata": {
        "id": "oJLQEPuR1okn"
      },
      "execution_count": 853,
      "outputs": []
    },
    {
      "cell_type": "code",
      "source": [
        "# Used a customised function for getting reports\n",
        "scores = get_metrics(y_train,y_train_pred,y_test,y_pred,\"RandomforestClassifier\",scores)\n",
        "scores"
      ],
      "metadata": {
        "colab": {
          "base_uri": "https://localhost:8080/",
          "height": 0
        },
        "id": "x9Xe1o_7z3bU",
        "outputId": "87a29127-8270-4cd2-e5f7-3c43cd12fd9c"
      },
      "execution_count": 854,
      "outputs": [
        {
          "output_type": "execute_result",
          "data": {
            "text/plain": [
              "                    Model  Train_Accuracy  Train_Recall  Train_Precision  \\\n",
              "0  RandomforestClassifier        0.915789      0.838565         0.939698   \n",
              "\n",
              "   Train_F1_Score  Test_Accuracy  Test_Recall  Test_Precision  Test_F1_Score  \n",
              "0        0.886256        0.84507     0.830769        0.830769       0.830769  "
            ],
            "text/html": [
              "\n",
              "  <div id=\"df-0e8c4501-64bd-49ea-afe6-0aff4546899b\">\n",
              "    <div class=\"colab-df-container\">\n",
              "      <div>\n",
              "<style scoped>\n",
              "    .dataframe tbody tr th:only-of-type {\n",
              "        vertical-align: middle;\n",
              "    }\n",
              "\n",
              "    .dataframe tbody tr th {\n",
              "        vertical-align: top;\n",
              "    }\n",
              "\n",
              "    .dataframe thead th {\n",
              "        text-align: right;\n",
              "    }\n",
              "</style>\n",
              "<table border=\"1\" class=\"dataframe\">\n",
              "  <thead>\n",
              "    <tr style=\"text-align: right;\">\n",
              "      <th></th>\n",
              "      <th>Model</th>\n",
              "      <th>Train_Accuracy</th>\n",
              "      <th>Train_Recall</th>\n",
              "      <th>Train_Precision</th>\n",
              "      <th>Train_F1_Score</th>\n",
              "      <th>Test_Accuracy</th>\n",
              "      <th>Test_Recall</th>\n",
              "      <th>Test_Precision</th>\n",
              "      <th>Test_F1_Score</th>\n",
              "    </tr>\n",
              "  </thead>\n",
              "  <tbody>\n",
              "    <tr>\n",
              "      <th>0</th>\n",
              "      <td>RandomforestClassifier</td>\n",
              "      <td>0.915789</td>\n",
              "      <td>0.838565</td>\n",
              "      <td>0.939698</td>\n",
              "      <td>0.886256</td>\n",
              "      <td>0.84507</td>\n",
              "      <td>0.830769</td>\n",
              "      <td>0.830769</td>\n",
              "      <td>0.830769</td>\n",
              "    </tr>\n",
              "  </tbody>\n",
              "</table>\n",
              "</div>\n",
              "      <button class=\"colab-df-convert\" onclick=\"convertToInteractive('df-0e8c4501-64bd-49ea-afe6-0aff4546899b')\"\n",
              "              title=\"Convert this dataframe to an interactive table.\"\n",
              "              style=\"display:none;\">\n",
              "        \n",
              "  <svg xmlns=\"http://www.w3.org/2000/svg\" height=\"24px\"viewBox=\"0 0 24 24\"\n",
              "       width=\"24px\">\n",
              "    <path d=\"M0 0h24v24H0V0z\" fill=\"none\"/>\n",
              "    <path d=\"M18.56 5.44l.94 2.06.94-2.06 2.06-.94-2.06-.94-.94-2.06-.94 2.06-2.06.94zm-11 1L8.5 8.5l.94-2.06 2.06-.94-2.06-.94L8.5 2.5l-.94 2.06-2.06.94zm10 10l.94 2.06.94-2.06 2.06-.94-2.06-.94-.94-2.06-.94 2.06-2.06.94z\"/><path d=\"M17.41 7.96l-1.37-1.37c-.4-.4-.92-.59-1.43-.59-.52 0-1.04.2-1.43.59L10.3 9.45l-7.72 7.72c-.78.78-.78 2.05 0 2.83L4 21.41c.39.39.9.59 1.41.59.51 0 1.02-.2 1.41-.59l7.78-7.78 2.81-2.81c.8-.78.8-2.07 0-2.86zM5.41 20L4 18.59l7.72-7.72 1.47 1.35L5.41 20z\"/>\n",
              "  </svg>\n",
              "      </button>\n",
              "      \n",
              "  <style>\n",
              "    .colab-df-container {\n",
              "      display:flex;\n",
              "      flex-wrap:wrap;\n",
              "      gap: 12px;\n",
              "    }\n",
              "\n",
              "    .colab-df-convert {\n",
              "      background-color: #E8F0FE;\n",
              "      border: none;\n",
              "      border-radius: 50%;\n",
              "      cursor: pointer;\n",
              "      display: none;\n",
              "      fill: #1967D2;\n",
              "      height: 32px;\n",
              "      padding: 0 0 0 0;\n",
              "      width: 32px;\n",
              "    }\n",
              "\n",
              "    .colab-df-convert:hover {\n",
              "      background-color: #E2EBFA;\n",
              "      box-shadow: 0px 1px 2px rgba(60, 64, 67, 0.3), 0px 1px 3px 1px rgba(60, 64, 67, 0.15);\n",
              "      fill: #174EA6;\n",
              "    }\n",
              "\n",
              "    [theme=dark] .colab-df-convert {\n",
              "      background-color: #3B4455;\n",
              "      fill: #D2E3FC;\n",
              "    }\n",
              "\n",
              "    [theme=dark] .colab-df-convert:hover {\n",
              "      background-color: #434B5C;\n",
              "      box-shadow: 0px 1px 3px 1px rgba(0, 0, 0, 0.15);\n",
              "      filter: drop-shadow(0px 1px 2px rgba(0, 0, 0, 0.3));\n",
              "      fill: #FFFFFF;\n",
              "    }\n",
              "  </style>\n",
              "\n",
              "      <script>\n",
              "        const buttonEl =\n",
              "          document.querySelector('#df-0e8c4501-64bd-49ea-afe6-0aff4546899b button.colab-df-convert');\n",
              "        buttonEl.style.display =\n",
              "          google.colab.kernel.accessAllowed ? 'block' : 'none';\n",
              "\n",
              "        async function convertToInteractive(key) {\n",
              "          const element = document.querySelector('#df-0e8c4501-64bd-49ea-afe6-0aff4546899b');\n",
              "          const dataTable =\n",
              "            await google.colab.kernel.invokeFunction('convertToInteractive',\n",
              "                                                     [key], {});\n",
              "          if (!dataTable) return;\n",
              "\n",
              "          const docLinkHtml = 'Like what you see? Visit the ' +\n",
              "            '<a target=\"_blank\" href=https://colab.research.google.com/notebooks/data_table.ipynb>data table notebook</a>'\n",
              "            + ' to learn more about interactive tables.';\n",
              "          element.innerHTML = '';\n",
              "          dataTable['output_type'] = 'display_data';\n",
              "          await google.colab.output.renderOutput(dataTable, element);\n",
              "          const docLink = document.createElement('div');\n",
              "          docLink.innerHTML = docLinkHtml;\n",
              "          element.appendChild(docLink);\n",
              "        }\n",
              "      </script>\n",
              "    </div>\n",
              "  </div>\n",
              "  "
            ]
          },
          "metadata": {},
          "execution_count": 854
        }
      ]
    },
    {
      "cell_type": "code",
      "source": [
        "calc_f1_score(y_test,y_pred)"
      ],
      "metadata": {
        "colab": {
          "base_uri": "https://localhost:8080/"
        },
        "id": "WfzVMctbxyeG",
        "outputId": "be4bb6bc-9cf0-4ce8-da99-1952dcddf43b"
      },
      "execution_count": 855,
      "outputs": [
        {
          "output_type": "stream",
          "name": "stdout",
          "text": [
            "Recall: 0.8308\n",
            "Precision: 0.8308\n",
            "F1 Score: 0.8308\n"
          ]
        }
      ]
    },
    {
      "cell_type": "code",
      "source": [
        "confusion_matrix(y_test,y_pred)"
      ],
      "metadata": {
        "colab": {
          "base_uri": "https://localhost:8080/"
        },
        "id": "1mdYBH_Zxyg7",
        "outputId": "870948c0-f2be-4a81-9ba0-5284e7be1558"
      },
      "execution_count": 856,
      "outputs": [
        {
          "output_type": "execute_result",
          "data": {
            "text/plain": [
              "array([[66, 11],\n",
              "       [11, 54]])"
            ]
          },
          "metadata": {},
          "execution_count": 856
        }
      ]
    },
    {
      "cell_type": "markdown",
      "source": [
        "##**MOBILE PRICE RANGE DATASET(MULTI CLASSIFICATION)**"
      ],
      "metadata": {
        "id": "5G2LeW0_56bm"
      }
    },
    {
      "cell_type": "code",
      "source": [
        "# Read the CSV Files\n",
        "df1 = pd.read_csv('/content/train (1).csv')\n",
        "df1.head()"
      ],
      "metadata": {
        "colab": {
          "base_uri": "https://localhost:8080/",
          "height": 299
        },
        "id": "WR4ifyZydGkE",
        "outputId": "74a451e1-31af-4c87-d211-3779ffbb1d21"
      },
      "execution_count": 857,
      "outputs": [
        {
          "output_type": "execute_result",
          "data": {
            "text/plain": [
              "   battery_power  blue  clock_speed  dual_sim  fc  four_g  int_memory  m_dep  \\\n",
              "0            842     0          2.2         0   1       0           7    0.6   \n",
              "1           1021     1          0.5         1   0       1          53    0.7   \n",
              "2            563     1          0.5         1   2       1          41    0.9   \n",
              "3            615     1          2.5         0   0       0          10    0.8   \n",
              "4           1821     1          1.2         0  13       1          44    0.6   \n",
              "\n",
              "   mobile_wt  n_cores  ...  px_height  px_width   ram  sc_h  sc_w  talk_time  \\\n",
              "0        188        2  ...         20       756  2549     9     7         19   \n",
              "1        136        3  ...        905      1988  2631    17     3          7   \n",
              "2        145        5  ...       1263      1716  2603    11     2          9   \n",
              "3        131        6  ...       1216      1786  2769    16     8         11   \n",
              "4        141        2  ...       1208      1212  1411     8     2         15   \n",
              "\n",
              "   three_g  touch_screen  wifi  price_range  \n",
              "0        0             0     1            1  \n",
              "1        1             1     0            2  \n",
              "2        1             1     0            2  \n",
              "3        1             0     0            2  \n",
              "4        1             1     0            1  \n",
              "\n",
              "[5 rows x 21 columns]"
            ],
            "text/html": [
              "\n",
              "  <div id=\"df-115f4616-a050-4ec8-9871-42b77570f922\">\n",
              "    <div class=\"colab-df-container\">\n",
              "      <div>\n",
              "<style scoped>\n",
              "    .dataframe tbody tr th:only-of-type {\n",
              "        vertical-align: middle;\n",
              "    }\n",
              "\n",
              "    .dataframe tbody tr th {\n",
              "        vertical-align: top;\n",
              "    }\n",
              "\n",
              "    .dataframe thead th {\n",
              "        text-align: right;\n",
              "    }\n",
              "</style>\n",
              "<table border=\"1\" class=\"dataframe\">\n",
              "  <thead>\n",
              "    <tr style=\"text-align: right;\">\n",
              "      <th></th>\n",
              "      <th>battery_power</th>\n",
              "      <th>blue</th>\n",
              "      <th>clock_speed</th>\n",
              "      <th>dual_sim</th>\n",
              "      <th>fc</th>\n",
              "      <th>four_g</th>\n",
              "      <th>int_memory</th>\n",
              "      <th>m_dep</th>\n",
              "      <th>mobile_wt</th>\n",
              "      <th>n_cores</th>\n",
              "      <th>...</th>\n",
              "      <th>px_height</th>\n",
              "      <th>px_width</th>\n",
              "      <th>ram</th>\n",
              "      <th>sc_h</th>\n",
              "      <th>sc_w</th>\n",
              "      <th>talk_time</th>\n",
              "      <th>three_g</th>\n",
              "      <th>touch_screen</th>\n",
              "      <th>wifi</th>\n",
              "      <th>price_range</th>\n",
              "    </tr>\n",
              "  </thead>\n",
              "  <tbody>\n",
              "    <tr>\n",
              "      <th>0</th>\n",
              "      <td>842</td>\n",
              "      <td>0</td>\n",
              "      <td>2.2</td>\n",
              "      <td>0</td>\n",
              "      <td>1</td>\n",
              "      <td>0</td>\n",
              "      <td>7</td>\n",
              "      <td>0.6</td>\n",
              "      <td>188</td>\n",
              "      <td>2</td>\n",
              "      <td>...</td>\n",
              "      <td>20</td>\n",
              "      <td>756</td>\n",
              "      <td>2549</td>\n",
              "      <td>9</td>\n",
              "      <td>7</td>\n",
              "      <td>19</td>\n",
              "      <td>0</td>\n",
              "      <td>0</td>\n",
              "      <td>1</td>\n",
              "      <td>1</td>\n",
              "    </tr>\n",
              "    <tr>\n",
              "      <th>1</th>\n",
              "      <td>1021</td>\n",
              "      <td>1</td>\n",
              "      <td>0.5</td>\n",
              "      <td>1</td>\n",
              "      <td>0</td>\n",
              "      <td>1</td>\n",
              "      <td>53</td>\n",
              "      <td>0.7</td>\n",
              "      <td>136</td>\n",
              "      <td>3</td>\n",
              "      <td>...</td>\n",
              "      <td>905</td>\n",
              "      <td>1988</td>\n",
              "      <td>2631</td>\n",
              "      <td>17</td>\n",
              "      <td>3</td>\n",
              "      <td>7</td>\n",
              "      <td>1</td>\n",
              "      <td>1</td>\n",
              "      <td>0</td>\n",
              "      <td>2</td>\n",
              "    </tr>\n",
              "    <tr>\n",
              "      <th>2</th>\n",
              "      <td>563</td>\n",
              "      <td>1</td>\n",
              "      <td>0.5</td>\n",
              "      <td>1</td>\n",
              "      <td>2</td>\n",
              "      <td>1</td>\n",
              "      <td>41</td>\n",
              "      <td>0.9</td>\n",
              "      <td>145</td>\n",
              "      <td>5</td>\n",
              "      <td>...</td>\n",
              "      <td>1263</td>\n",
              "      <td>1716</td>\n",
              "      <td>2603</td>\n",
              "      <td>11</td>\n",
              "      <td>2</td>\n",
              "      <td>9</td>\n",
              "      <td>1</td>\n",
              "      <td>1</td>\n",
              "      <td>0</td>\n",
              "      <td>2</td>\n",
              "    </tr>\n",
              "    <tr>\n",
              "      <th>3</th>\n",
              "      <td>615</td>\n",
              "      <td>1</td>\n",
              "      <td>2.5</td>\n",
              "      <td>0</td>\n",
              "      <td>0</td>\n",
              "      <td>0</td>\n",
              "      <td>10</td>\n",
              "      <td>0.8</td>\n",
              "      <td>131</td>\n",
              "      <td>6</td>\n",
              "      <td>...</td>\n",
              "      <td>1216</td>\n",
              "      <td>1786</td>\n",
              "      <td>2769</td>\n",
              "      <td>16</td>\n",
              "      <td>8</td>\n",
              "      <td>11</td>\n",
              "      <td>1</td>\n",
              "      <td>0</td>\n",
              "      <td>0</td>\n",
              "      <td>2</td>\n",
              "    </tr>\n",
              "    <tr>\n",
              "      <th>4</th>\n",
              "      <td>1821</td>\n",
              "      <td>1</td>\n",
              "      <td>1.2</td>\n",
              "      <td>0</td>\n",
              "      <td>13</td>\n",
              "      <td>1</td>\n",
              "      <td>44</td>\n",
              "      <td>0.6</td>\n",
              "      <td>141</td>\n",
              "      <td>2</td>\n",
              "      <td>...</td>\n",
              "      <td>1208</td>\n",
              "      <td>1212</td>\n",
              "      <td>1411</td>\n",
              "      <td>8</td>\n",
              "      <td>2</td>\n",
              "      <td>15</td>\n",
              "      <td>1</td>\n",
              "      <td>1</td>\n",
              "      <td>0</td>\n",
              "      <td>1</td>\n",
              "    </tr>\n",
              "  </tbody>\n",
              "</table>\n",
              "<p>5 rows × 21 columns</p>\n",
              "</div>\n",
              "      <button class=\"colab-df-convert\" onclick=\"convertToInteractive('df-115f4616-a050-4ec8-9871-42b77570f922')\"\n",
              "              title=\"Convert this dataframe to an interactive table.\"\n",
              "              style=\"display:none;\">\n",
              "        \n",
              "  <svg xmlns=\"http://www.w3.org/2000/svg\" height=\"24px\"viewBox=\"0 0 24 24\"\n",
              "       width=\"24px\">\n",
              "    <path d=\"M0 0h24v24H0V0z\" fill=\"none\"/>\n",
              "    <path d=\"M18.56 5.44l.94 2.06.94-2.06 2.06-.94-2.06-.94-.94-2.06-.94 2.06-2.06.94zm-11 1L8.5 8.5l.94-2.06 2.06-.94-2.06-.94L8.5 2.5l-.94 2.06-2.06.94zm10 10l.94 2.06.94-2.06 2.06-.94-2.06-.94-.94-2.06-.94 2.06-2.06.94z\"/><path d=\"M17.41 7.96l-1.37-1.37c-.4-.4-.92-.59-1.43-.59-.52 0-1.04.2-1.43.59L10.3 9.45l-7.72 7.72c-.78.78-.78 2.05 0 2.83L4 21.41c.39.39.9.59 1.41.59.51 0 1.02-.2 1.41-.59l7.78-7.78 2.81-2.81c.8-.78.8-2.07 0-2.86zM5.41 20L4 18.59l7.72-7.72 1.47 1.35L5.41 20z\"/>\n",
              "  </svg>\n",
              "      </button>\n",
              "      \n",
              "  <style>\n",
              "    .colab-df-container {\n",
              "      display:flex;\n",
              "      flex-wrap:wrap;\n",
              "      gap: 12px;\n",
              "    }\n",
              "\n",
              "    .colab-df-convert {\n",
              "      background-color: #E8F0FE;\n",
              "      border: none;\n",
              "      border-radius: 50%;\n",
              "      cursor: pointer;\n",
              "      display: none;\n",
              "      fill: #1967D2;\n",
              "      height: 32px;\n",
              "      padding: 0 0 0 0;\n",
              "      width: 32px;\n",
              "    }\n",
              "\n",
              "    .colab-df-convert:hover {\n",
              "      background-color: #E2EBFA;\n",
              "      box-shadow: 0px 1px 2px rgba(60, 64, 67, 0.3), 0px 1px 3px 1px rgba(60, 64, 67, 0.15);\n",
              "      fill: #174EA6;\n",
              "    }\n",
              "\n",
              "    [theme=dark] .colab-df-convert {\n",
              "      background-color: #3B4455;\n",
              "      fill: #D2E3FC;\n",
              "    }\n",
              "\n",
              "    [theme=dark] .colab-df-convert:hover {\n",
              "      background-color: #434B5C;\n",
              "      box-shadow: 0px 1px 3px 1px rgba(0, 0, 0, 0.15);\n",
              "      filter: drop-shadow(0px 1px 2px rgba(0, 0, 0, 0.3));\n",
              "      fill: #FFFFFF;\n",
              "    }\n",
              "  </style>\n",
              "\n",
              "      <script>\n",
              "        const buttonEl =\n",
              "          document.querySelector('#df-115f4616-a050-4ec8-9871-42b77570f922 button.colab-df-convert');\n",
              "        buttonEl.style.display =\n",
              "          google.colab.kernel.accessAllowed ? 'block' : 'none';\n",
              "\n",
              "        async function convertToInteractive(key) {\n",
              "          const element = document.querySelector('#df-115f4616-a050-4ec8-9871-42b77570f922');\n",
              "          const dataTable =\n",
              "            await google.colab.kernel.invokeFunction('convertToInteractive',\n",
              "                                                     [key], {});\n",
              "          if (!dataTable) return;\n",
              "\n",
              "          const docLinkHtml = 'Like what you see? Visit the ' +\n",
              "            '<a target=\"_blank\" href=https://colab.research.google.com/notebooks/data_table.ipynb>data table notebook</a>'\n",
              "            + ' to learn more about interactive tables.';\n",
              "          element.innerHTML = '';\n",
              "          dataTable['output_type'] = 'display_data';\n",
              "          await google.colab.output.renderOutput(dataTable, element);\n",
              "          const docLink = document.createElement('div');\n",
              "          docLink.innerHTML = docLinkHtml;\n",
              "          element.appendChild(docLink);\n",
              "        }\n",
              "      </script>\n",
              "    </div>\n",
              "  </div>\n",
              "  "
            ]
          },
          "metadata": {},
          "execution_count": 857
        }
      ]
    },
    {
      "cell_type": "code",
      "source": [
        "# Check the files whether they have any empty cell or not\n",
        "df1.isnull().sum().sum()"
      ],
      "metadata": {
        "colab": {
          "base_uri": "https://localhost:8080/"
        },
        "id": "6x9QIrhJdGhF",
        "outputId": "8465b7cb-8348-4ecf-ef22-8934f51e143a"
      },
      "execution_count": 858,
      "outputs": [
        {
          "output_type": "execute_result",
          "data": {
            "text/plain": [
              "0"
            ]
          },
          "metadata": {},
          "execution_count": 858
        }
      ]
    },
    {
      "cell_type": "code",
      "source": [
        "# TARGET DISTRIBUTION PLOT\n",
        "print(df1['price_range'].value_counts()) \n",
        "plt.style.use('fivethirtyeight')\n",
        "ax = sns.countplot(x=df1.price_range, data=df1, hue=df1.price_range)"
      ],
      "metadata": {
        "id": "vRYn7bfgnkgh",
        "outputId": "81d59fc7-4ea6-4dde-96e5-e0a5ce3e3940",
        "colab": {
          "base_uri": "https://localhost:8080/",
          "height": 395
        }
      },
      "execution_count": 859,
      "outputs": [
        {
          "output_type": "stream",
          "name": "stdout",
          "text": [
            "1    500\n",
            "2    500\n",
            "3    500\n",
            "0    500\n",
            "Name: price_range, dtype: int64\n"
          ]
        },
        {
          "output_type": "display_data",
          "data": {
            "text/plain": [
              "<Figure size 432x288 with 1 Axes>"
            ],
            "image/png": "[encoded data removed]"
          },
          "metadata": {}
        }
      ]
    },
    {
      "cell_type": "markdown",
      "source": [
        "###**MODEL BUILDING**"
      ],
      "metadata": {
        "id": "4lpQwO6X2fzz"
      }
    },
    {
      "cell_type": "code",
      "source": [
        "X=df1.drop(['price_range'],axis=1)\n",
        "y=df1.price_range"
      ],
      "metadata": {
        "id": "zeVH0qA6n1Uw"
      },
      "execution_count": 788,
      "outputs": []
    },
    {
      "cell_type": "code",
      "source": [
        "X_train, X_test, y_train, y_test = split_data(X, y, test_size=0.2)"
      ],
      "metadata": {
        "id": "c4Y2arWnr872"
      },
      "execution_count": 789,
      "outputs": []
    },
    {
      "cell_type": "code",
      "source": [
        "X_train.shape,y_train.shape,X_test.shape,y_test.shape"
      ],
      "metadata": {
        "id": "LejWw8nCoFyE",
        "outputId": "cc8254b6-65c1-4682-cdfb-52fed4b42415",
        "colab": {
          "base_uri": "https://localhost:8080/"
        }
      },
      "execution_count": 790,
      "outputs": [
        {
          "output_type": "execute_result",
          "data": {
            "text/plain": [
              "((1600, 20), (1600,), (400, 20), (400,))"
            ]
          },
          "metadata": {},
          "execution_count": 790
        }
      ]
    },
    {
      "cell_type": "code",
      "source": [
        "rfc = RandomForestClassifier(n_trees=20, bootstrap=True, max_features=5, min_samples_leaf=5,random_state=0)\n",
        "rfc.fit(X_train, y_train)\n",
        "y_pred= rfc.predict(X_test)\n",
        "acc_test = rfc.score(X_test, y_test)\n",
        "acc_train = rfc.score(X_train, y_train)\n",
        "print(\"Random Forest model\")\n",
        "print(\"train accuracy: %.2f%%\" % (acc_train*100))\n",
        "print(\"test accuracy:  %.2f%%\" % (acc_test*100))"
      ],
      "metadata": {
        "id": "yjHcJVv0oxyk",
        "outputId": "40ffbaf7-f52f-45d0-c2d5-ddf8ed8355a2",
        "colab": {
          "base_uri": "https://localhost:8080/"
        }
      },
      "execution_count": 791,
      "outputs": [
        {
          "output_type": "stream",
          "name": "stdout",
          "text": [
            "Random Forest model\n",
            "train accuracy: 98.62%\n",
            "test accuracy:  88.00%\n"
          ]
        }
      ]
    },
    {
      "cell_type": "markdown",
      "source": [
        "####**MODEL EVALUATION**"
      ],
      "metadata": {
        "id": "E9VI9IV4cgBU"
      }
    },
    {
      "cell_type": "code",
      "source": [
        "confusion_matrix(y_test,y_pred)"
      ],
      "metadata": {
        "colab": {
          "base_uri": "https://localhost:8080/"
        },
        "id": "tbL6dqbweJEM",
        "outputId": "dfb7c50b-89ba-4942-dde0-ecb34edc866b"
      },
      "execution_count": 792,
      "outputs": [
        {
          "output_type": "execute_result",
          "data": {
            "text/plain": [
              "array([[104,   5,   0,   0],\n",
              "       [  7,  86,   5,   0],\n",
              "       [  0,  10,  74,  12],\n",
              "       [  0,   0,   9,  88]])"
            ]
          },
          "metadata": {},
          "execution_count": 792
        }
      ]
    },
    {
      "cell_type": "markdown",
      "source": [
        "#**CUSTOMER SEGMENTATION DATASET**"
      ],
      "metadata": {
        "id": "ZJZjfYTm8Bj2"
      }
    },
    {
      "cell_type": "code",
      "source": [
        "df01 = pd.read_csv(\"/content/Train.csv\")\n",
        "df1 = df01.copy()\n",
        "df1.head()"
      ],
      "metadata": {
        "colab": {
          "base_uri": "https://localhost:8080/",
          "height": 206
        },
        "id": "TJ_PXl_g7_9f",
        "outputId": "168237e4-0d33-40c8-a4ab-47c568934e3c"
      },
      "execution_count": 793,
      "outputs": [
        {
          "output_type": "execute_result",
          "data": {
            "text/plain": [
              "       ID  Gender Ever_Married  Age Graduated     Profession  Work_Experience  \\\n",
              "0  462809    Male           No   22        No     Healthcare              1.0   \n",
              "1  462643  Female          Yes   38       Yes       Engineer              NaN   \n",
              "2  466315  Female          Yes   67       Yes       Engineer              1.0   \n",
              "3  461735    Male          Yes   67       Yes         Lawyer              0.0   \n",
              "4  462669  Female          Yes   40       Yes  Entertainment              NaN   \n",
              "\n",
              "  Spending_Score  Family_Size  Var_1 Segmentation  \n",
              "0            Low          4.0  Cat_4            D  \n",
              "1        Average          3.0  Cat_4            A  \n",
              "2            Low          1.0  Cat_6            B  \n",
              "3           High          2.0  Cat_6            B  \n",
              "4           High          6.0  Cat_6            A  "
            ],
            "text/html": [
              "\n",
              "  <div id=\"df-1babee1c-9681-4024-9f9f-ee923879b8d3\">\n",
              "    <div class=\"colab-df-container\">\n",
              "      <div>\n",
              "<style scoped>\n",
              "    .dataframe tbody tr th:only-of-type {\n",
              "        vertical-align: middle;\n",
              "    }\n",
              "\n",
              "    .dataframe tbody tr th {\n",
              "        vertical-align: top;\n",
              "    }\n",
              "\n",
              "    .dataframe thead th {\n",
              "        text-align: right;\n",
              "    }\n",
              "</style>\n",
              "<table border=\"1\" class=\"dataframe\">\n",
              "  <thead>\n",
              "    <tr style=\"text-align: right;\">\n",
              "      <th></th>\n",
              "      <th>ID</th>\n",
              "      <th>Gender</th>\n",
              "      <th>Ever_Married</th>\n",
              "      <th>Age</th>\n",
              "      <th>Graduated</th>\n",
              "      <th>Profession</th>\n",
              "      <th>Work_Experience</th>\n",
              "      <th>Spending_Score</th>\n",
              "      <th>Family_Size</th>\n",
              "      <th>Var_1</th>\n",
              "      <th>Segmentation</th>\n",
              "    </tr>\n",
              "  </thead>\n",
              "  <tbody>\n",
              "    <tr>\n",
              "      <th>0</th>\n",
              "      <td>462809</td>\n",
              "      <td>Male</td>\n",
              "      <td>No</td>\n",
              "      <td>22</td>\n",
              "      <td>No</td>\n",
              "      <td>Healthcare</td>\n",
              "      <td>1.0</td>\n",
              "      <td>Low</td>\n",
              "      <td>4.0</td>\n",
              "      <td>Cat_4</td>\n",
              "      <td>D</td>\n",
              "    </tr>\n",
              "    <tr>\n",
              "      <th>1</th>\n",
              "      <td>462643</td>\n",
              "      <td>Female</td>\n",
              "      <td>Yes</td>\n",
              "      <td>38</td>\n",
              "      <td>Yes</td>\n",
              "      <td>Engineer</td>\n",
              "      <td>NaN</td>\n",
              "      <td>Average</td>\n",
              "      <td>3.0</td>\n",
              "      <td>Cat_4</td>\n",
              "      <td>A</td>\n",
              "    </tr>\n",
              "    <tr>\n",
              "      <th>2</th>\n",
              "      <td>466315</td>\n",
              "      <td>Female</td>\n",
              "      <td>Yes</td>\n",
              "      <td>67</td>\n",
              "      <td>Yes</td>\n",
              "      <td>Engineer</td>\n",
              "      <td>1.0</td>\n",
              "      <td>Low</td>\n",
              "      <td>1.0</td>\n",
              "      <td>Cat_6</td>\n",
              "      <td>B</td>\n",
              "    </tr>\n",
              "    <tr>\n",
              "      <th>3</th>\n",
              "      <td>461735</td>\n",
              "      <td>Male</td>\n",
              "      <td>Yes</td>\n",
              "      <td>67</td>\n",
              "      <td>Yes</td>\n",
              "      <td>Lawyer</td>\n",
              "      <td>0.0</td>\n",
              "      <td>High</td>\n",
              "      <td>2.0</td>\n",
              "      <td>Cat_6</td>\n",
              "      <td>B</td>\n",
              "    </tr>\n",
              "    <tr>\n",
              "      <th>4</th>\n",
              "      <td>462669</td>\n",
              "      <td>Female</td>\n",
              "      <td>Yes</td>\n",
              "      <td>40</td>\n",
              "      <td>Yes</td>\n",
              "      <td>Entertainment</td>\n",
              "      <td>NaN</td>\n",
              "      <td>High</td>\n",
              "      <td>6.0</td>\n",
              "      <td>Cat_6</td>\n",
              "      <td>A</td>\n",
              "    </tr>\n",
              "  </tbody>\n",
              "</table>\n",
              "</div>\n",
              "      <button class=\"colab-df-convert\" onclick=\"convertToInteractive('df-1babee1c-9681-4024-9f9f-ee923879b8d3')\"\n",
              "              title=\"Convert this dataframe to an interactive table.\"\n",
              "              style=\"display:none;\">\n",
              "        \n",
              "  <svg xmlns=\"http://www.w3.org/2000/svg\" height=\"24px\"viewBox=\"0 0 24 24\"\n",
              "       width=\"24px\">\n",
              "    <path d=\"M0 0h24v24H0V0z\" fill=\"none\"/>\n",
              "    <path d=\"M18.56 5.44l.94 2.06.94-2.06 2.06-.94-2.06-.94-.94-2.06-.94 2.06-2.06.94zm-11 1L8.5 8.5l.94-2.06 2.06-.94-2.06-.94L8.5 2.5l-.94 2.06-2.06.94zm10 10l.94 2.06.94-2.06 2.06-.94-2.06-.94-.94-2.06-.94 2.06-2.06.94z\"/><path d=\"M17.41 7.96l-1.37-1.37c-.4-.4-.92-.59-1.43-.59-.52 0-1.04.2-1.43.59L10.3 9.45l-7.72 7.72c-.78.78-.78 2.05 0 2.83L4 21.41c.39.39.9.59 1.41.59.51 0 1.02-.2 1.41-.59l7.78-7.78 2.81-2.81c.8-.78.8-2.07 0-2.86zM5.41 20L4 18.59l7.72-7.72 1.47 1.35L5.41 20z\"/>\n",
              "  </svg>\n",
              "      </button>\n",
              "      \n",
              "  <style>\n",
              "    .colab-df-container {\n",
              "      display:flex;\n",
              "      flex-wrap:wrap;\n",
              "      gap: 12px;\n",
              "    }\n",
              "\n",
              "    .colab-df-convert {\n",
              "      background-color: #E8F0FE;\n",
              "      border: none;\n",
              "      border-radius: 50%;\n",
              "      cursor: pointer;\n",
              "      display: none;\n",
              "      fill: #1967D2;\n",
              "      height: 32px;\n",
              "      padding: 0 0 0 0;\n",
              "      width: 32px;\n",
              "    }\n",
              "\n",
              "    .colab-df-convert:hover {\n",
              "      background-color: #E2EBFA;\n",
              "      box-shadow: 0px 1px 2px rgba(60, 64, 67, 0.3), 0px 1px 3px 1px rgba(60, 64, 67, 0.15);\n",
              "      fill: #174EA6;\n",
              "    }\n",
              "\n",
              "    [theme=dark] .colab-df-convert {\n",
              "      background-color: #3B4455;\n",
              "      fill: #D2E3FC;\n",
              "    }\n",
              "\n",
              "    [theme=dark] .colab-df-convert:hover {\n",
              "      background-color: #434B5C;\n",
              "      box-shadow: 0px 1px 3px 1px rgba(0, 0, 0, 0.15);\n",
              "      filter: drop-shadow(0px 1px 2px rgba(0, 0, 0, 0.3));\n",
              "      fill: #FFFFFF;\n",
              "    }\n",
              "  </style>\n",
              "\n",
              "      <script>\n",
              "        const buttonEl =\n",
              "          document.querySelector('#df-1babee1c-9681-4024-9f9f-ee923879b8d3 button.colab-df-convert');\n",
              "        buttonEl.style.display =\n",
              "          google.colab.kernel.accessAllowed ? 'block' : 'none';\n",
              "\n",
              "        async function convertToInteractive(key) {\n",
              "          const element = document.querySelector('#df-1babee1c-9681-4024-9f9f-ee923879b8d3');\n",
              "          const dataTable =\n",
              "            await google.colab.kernel.invokeFunction('convertToInteractive',\n",
              "                                                     [key], {});\n",
              "          if (!dataTable) return;\n",
              "\n",
              "          const docLinkHtml = 'Like what you see? Visit the ' +\n",
              "            '<a target=\"_blank\" href=https://colab.research.google.com/notebooks/data_table.ipynb>data table notebook</a>'\n",
              "            + ' to learn more about interactive tables.';\n",
              "          element.innerHTML = '';\n",
              "          dataTable['output_type'] = 'display_data';\n",
              "          await google.colab.output.renderOutput(dataTable, element);\n",
              "          const docLink = document.createElement('div');\n",
              "          docLink.innerHTML = docLinkHtml;\n",
              "          element.appendChild(docLink);\n",
              "        }\n",
              "      </script>\n",
              "    </div>\n",
              "  </div>\n",
              "  "
            ]
          },
          "metadata": {},
          "execution_count": 793
        }
      ]
    },
    {
      "cell_type": "markdown",
      "source": [
        "###**EDA ON DATASET**"
      ],
      "metadata": {
        "id": "WecsTD-nTVoV"
      }
    },
    {
      "cell_type": "markdown",
      "source": [
        "####**MISSING VALUE TREATEMENT**"
      ],
      "metadata": {
        "id": "7Jfe51LOWEPY"
      }
    },
    {
      "cell_type": "code",
      "source": [
        "# Checking the number of missing values in each column\n",
        "df1.isnull().sum()"
      ],
      "metadata": {
        "colab": {
          "base_uri": "https://localhost:8080/"
        },
        "id": "uk0MS_rK8MGE",
        "outputId": "1aeea02f-bc44-4af5-daf1-cc072d29bd82"
      },
      "execution_count": 794,
      "outputs": [
        {
          "output_type": "execute_result",
          "data": {
            "text/plain": [
              "ID                   0\n",
              "Gender               0\n",
              "Ever_Married       140\n",
              "Age                  0\n",
              "Graduated           78\n",
              "Profession         124\n",
              "Work_Experience    829\n",
              "Spending_Score       0\n",
              "Family_Size        335\n",
              "Var_1               76\n",
              "Segmentation         0\n",
              "dtype: int64"
            ]
          },
          "metadata": {},
          "execution_count": 794
        }
      ]
    },
    {
      "cell_type": "code",
      "source": [
        "# Removing all those rows that have 3 or more missing values\n",
        "df1 = df1.loc[df1.isnull().sum(axis=1)<3]\n",
        "df1.isnull().sum()"
      ],
      "metadata": {
        "colab": {
          "base_uri": "https://localhost:8080/"
        },
        "id": "fZ9tiiE48VpJ",
        "outputId": "c565d049-dc18-4f14-e7e4-ed9d669c46a1"
      },
      "execution_count": 795,
      "outputs": [
        {
          "output_type": "execute_result",
          "data": {
            "text/plain": [
              "ID                   0\n",
              "Gender               0\n",
              "Ever_Married       134\n",
              "Age                  0\n",
              "Graduated           72\n",
              "Profession         113\n",
              "Work_Experience    813\n",
              "Spending_Score       0\n",
              "Family_Size        320\n",
              "Var_1               72\n",
              "Segmentation         0\n",
              "dtype: int64"
            ]
          },
          "metadata": {},
          "execution_count": 795
        }
      ]
    },
    {
      "cell_type": "markdown",
      "source": [
        "**Var_1**"
      ],
      "metadata": {
        "id": "_qyr5JGUTgjd"
      }
    },
    {
      "cell_type": "code",
      "source": [
        "print('The count of each category\\n',df1.Var_1.value_counts())"
      ],
      "metadata": {
        "colab": {
          "base_uri": "https://localhost:8080/"
        },
        "id": "7-IXk1Ni8cmy",
        "outputId": "aa1e4371-576e-452e-8a41-f3cde8bf0c74"
      },
      "execution_count": 796,
      "outputs": [
        {
          "output_type": "stream",
          "name": "stdout",
          "text": [
            "The count of each category\n",
            " Cat_6    5232\n",
            "Cat_4    1084\n",
            "Cat_3     820\n",
            "Cat_2     422\n",
            "Cat_7     201\n",
            "Cat_1     133\n",
            "Cat_5      85\n",
            "Name: Var_1, dtype: int64\n"
          ]
        }
      ]
    },
    {
      "cell_type": "code",
      "source": [
        "# Filling the missing values w.r.t other attributes underlying pattern \n",
        "df1.loc[ (pd.isnull(df1['Var_1'])) & (df1['Graduated'] == 'Yes'),\"Var_1\"] = 'Cat_6'\n",
        "df1.loc[ (pd.isnull(df1['Var_1'])) & (df1['Graduated'] == 'No'),\"Var_1\"] = 'Cat_4'\n",
        "df1.loc[ (pd.isnull(df1[\"Var_1\"])) & ((df1['Profession'] == 'Lawyer') | (df1['Profession'] == 'Artist')),\"Var_1\"] = 'Cat_6'\n",
        "df1.loc[ (pd.isnull(df1[\"Var_1\"])) & (df1['Age'] > 40),\"Var_1\"] = 'Cat_6'"
      ],
      "metadata": {
        "id": "u_Z-D2h38xTR"
      },
      "execution_count": 797,
      "outputs": []
    },
    {
      "cell_type": "code",
      "source": [
        "print(df1.groupby([\"Segmentation\"])[\"Var_1\"].value_counts().unstack().round(3)) \n",
        "plt.style.use('fivethirtyeight')\n",
        "ax = sns.countplot(x=df1.Segmentation, data=df1, hue=df1.Var_1)"
      ],
      "metadata": {
        "colab": {
          "base_uri": "https://localhost:8080/",
          "height": 0
        },
        "id": "6vYZMz3_91B2",
        "outputId": "6b71ad7d-978c-44d2-ca1c-46013932901b"
      },
      "execution_count": 798,
      "outputs": [
        {
          "output_type": "stream",
          "name": "stdout",
          "text": [
            "Var_1         Cat_1  Cat_2  Cat_3  Cat_4  Cat_5  Cat_6  Cat_7\n",
            "Segmentation                                                 \n",
            "A                31     83    223    340     19   1220     49\n",
            "B                26    106    186    233     20   1241     43\n",
            "C                26     99    153    118     18   1507     47\n",
            "D                50    134    258    426     28   1303     62\n"
          ]
        },
        {
          "output_type": "display_data",
          "data": {
            "text/plain": [
              "<Figure size 432x288 with 1 Axes>"
            ],
            "image/png": "[encoded data removed]"
          },
          "metadata": {}
        }
      ]
    },
    {
      "cell_type": "markdown",
      "source": [
        "**OBSERVATIONS**\n",
        "\n",
        "In each of the segment the count of cat_6 is very high i.e. most of the entries in the given data belongs to cat_6."
      ],
      "metadata": {
        "id": "h1OIuU-U-UI1"
      }
    },
    {
      "cell_type": "markdown",
      "source": [
        "\n",
        "\n",
        "---\n",
        "\n",
        "\n",
        "\n",
        "---\n",
        "\n"
      ],
      "metadata": {
        "id": "EasHmvoxeDwf"
      }
    },
    {
      "cell_type": "markdown",
      "source": [
        "**Ever_Married**"
      ],
      "metadata": {
        "id": "NwW66VwYToP6"
      }
    },
    {
      "cell_type": "code",
      "source": [
        "print('Count of married vs not married\\n',df1.Ever_Married.value_counts())"
      ],
      "metadata": {
        "colab": {
          "base_uri": "https://localhost:8080/"
        },
        "id": "zoqKikED9OAz",
        "outputId": "2d0a54fe-2e1f-454c-bf78-0f1ada614287"
      },
      "execution_count": 799,
      "outputs": [
        {
          "output_type": "stream",
          "name": "stdout",
          "text": [
            "Count of married vs not married\n",
            " Yes    4635\n",
            "No     3280\n",
            "Name: Ever_Married, dtype: int64\n"
          ]
        }
      ]
    },
    {
      "cell_type": "code",
      "source": [
        "# Checking the count of missing values\n",
        "df1.Ever_Married.isnull().sum()"
      ],
      "metadata": {
        "colab": {
          "base_uri": "https://localhost:8080/"
        },
        "id": "a4dTJD-1-4Mo",
        "outputId": "bdc4566f-0212-49dc-be60-989874911244"
      },
      "execution_count": 800,
      "outputs": [
        {
          "output_type": "execute_result",
          "data": {
            "text/plain": [
              "134"
            ]
          },
          "metadata": {},
          "execution_count": 800
        }
      ]
    },
    {
      "cell_type": "code",
      "source": [
        "# Filling the missing values w.r.t other attributes underlying pattern\n",
        "df1.loc[ (pd.isnull(df1[\"Ever_Married\"])) & ((df1['Spending_Score'] == 'Average') | (df1['Spending_Score'] == 'High')),\"Ever_Married\"] = 'Yes'\n",
        "df1.loc[ (pd.isnull(df1[\"Ever_Married\"])) & (df1['Spending_Score'] == 'Low'),\"Ever_Married\"] = 'No'\n",
        "df1.loc[ (pd.isnull(df1[\"Ever_Married\"])) & (df1['Age'] > 40),\"Ever_Married\"] = 'Yes'\n",
        "df1.loc[ (pd.isnull(df1[\"Ever_Married\"])) & (df1['Profession'] == 'Healthcare'),\"Ever_Married\"] = 'No'"
      ],
      "metadata": {
        "id": "zWHoaoTwGp6G"
      },
      "execution_count": 801,
      "outputs": []
    },
    {
      "cell_type": "code",
      "source": [
        "print(df1.groupby([\"Segmentation\"])[\"Ever_Married\"].value_counts().unstack().round(3)) \n",
        "plt.style.use('fivethirtyeight')\n",
        "ax = sns.countplot(x=df1.Segmentation, data=df1, hue=df1.Ever_Married)"
      ],
      "metadata": {
        "colab": {
          "base_uri": "https://localhost:8080/",
          "height": 0
        },
        "id": "LYgQU4NFAyA6",
        "outputId": "381b8359-1a99-4718-cf01-2d88b0400931"
      },
      "execution_count": 802,
      "outputs": [
        {
          "output_type": "stream",
          "name": "stdout",
          "text": [
            "Ever_Married    No   Yes\n",
            "Segmentation            \n",
            "A              814  1151\n",
            "B              491  1364\n",
            "C              409  1559\n",
            "D             1629   632\n"
          ]
        },
        {
          "output_type": "display_data",
          "data": {
            "text/plain": [
              "<Figure size 432x288 with 1 Axes>"
            ],
            "image/png": "[encoded data removed]"
          },
          "metadata": {}
        }
      ]
    },
    {
      "cell_type": "markdown",
      "source": [
        "**OBSERVATIONS**\n",
        "\n",
        "We seen that most of the customers in segment C are married while segment D has least number of married customers. It means segment D is a group of customers that are singles and maybe younger in age."
      ],
      "metadata": {
        "id": "f8asY-ffBMNl"
      }
    },
    {
      "cell_type": "markdown",
      "source": [
        "\n",
        "\n",
        "---\n",
        "\n",
        "\n",
        "\n",
        "---\n",
        "\n"
      ],
      "metadata": {
        "id": "4Zlvqh-VeIy1"
      }
    },
    {
      "cell_type": "markdown",
      "source": [
        "**Graduated**"
      ],
      "metadata": {
        "id": "O1GlEYJuTxzt"
      }
    },
    {
      "cell_type": "code",
      "source": [
        "print('Count of each graduate and non-graduate\\n',df1.Graduated.value_counts())"
      ],
      "metadata": {
        "colab": {
          "base_uri": "https://localhost:8080/"
        },
        "id": "wdh82PKWBdF2",
        "outputId": "b494ba9c-50a6-4203-c0ca-88ee8f6497b9"
      },
      "execution_count": 803,
      "outputs": [
        {
          "output_type": "stream",
          "name": "stdout",
          "text": [
            "Count of each graduate and non-graduate\n",
            " Yes    4965\n",
            "No     3012\n",
            "Name: Graduated, dtype: int64\n"
          ]
        }
      ]
    },
    {
      "cell_type": "code",
      "source": [
        "# Filling the missing values w.r.t other attributes underlying pattern\n",
        "df1.loc[ (pd.isnull(df1[\"Graduated\"])) & (df1['Spending_Score'] == 'Average'),\"Graduated\"] = 'Yes'\n",
        "df1.loc[ (pd.isnull(df1[\"Graduated\"])) & (df1['Profession'] == 'Artist'),\"Graduated\"] = 'Yes'\n",
        "df1.loc[ (pd.isnull(df1[\"Graduated\"])) & (df1['Age'] > 49),\"Graduated\"] = 'Yes'\n",
        "df1.loc[ (pd.isnull(df1[\"Graduated\"])) & (df1['Var_1'] == 'Cat_4'),\"Graduated\"] = 'No'\n",
        "df1.loc[ (pd.isnull(df1[\"Graduated\"])) & (df1['Ever_Married'] == 'Yes'),\"Graduated\"] = 'Yes'\n",
        "\n",
        "# Replacing remaining NaN with previous values\n",
        "df1['Graduated'] = df1['Graduated'].fillna(method='pad')"
      ],
      "metadata": {
        "id": "r4bgdvIe-8eo"
      },
      "execution_count": 804,
      "outputs": []
    },
    {
      "cell_type": "code",
      "source": [
        "print(df1.groupby([\"Segmentation\"])[\"Graduated\"].value_counts().unstack().round(3)) \n",
        "plt.style.use('fivethirtyeight')\n",
        "ax = sns.countplot(x=df1.Segmentation, data=df1, hue=df1.Graduated)"
      ],
      "metadata": {
        "colab": {
          "base_uri": "https://localhost:8080/",
          "height": 0
        },
        "id": "ZnS7GHToBln6",
        "outputId": "91ea2a0a-a242-4170-a9ae-a6b805b4bd40"
      },
      "execution_count": 805,
      "outputs": [
        {
          "output_type": "stream",
          "name": "stdout",
          "text": [
            "Graduated       No   Yes\n",
            "Segmentation            \n",
            "A              730  1235\n",
            "B              508  1347\n",
            "C              349  1619\n",
            "D             1439   822\n"
          ]
        },
        {
          "output_type": "display_data",
          "data": {
            "text/plain": [
              "<Figure size 432x288 with 1 Axes>"
            ],
            "image/png": "[encoded data removed]"
          },
          "metadata": {}
        }
      ]
    },
    {
      "cell_type": "markdown",
      "source": [
        "**OBSERVATIONS**\n",
        "\n",
        "Segment C has most number of customers who are graduated while segment D has lowest number of graduate customers."
      ],
      "metadata": {
        "id": "9volYi7EBpmd"
      }
    },
    {
      "cell_type": "markdown",
      "source": [
        "\n",
        "\n",
        "---\n",
        "\n",
        "\n",
        "\n",
        "---\n",
        "\n"
      ],
      "metadata": {
        "id": "EA2vXiTkeLZI"
      }
    },
    {
      "cell_type": "markdown",
      "source": [
        "**Profession**"
      ],
      "metadata": {
        "id": "P5mD1FmQTlpU"
      }
    },
    {
      "cell_type": "code",
      "source": [
        "print('Count of each profession\\n',df1.Profession.value_counts())"
      ],
      "metadata": {
        "colab": {
          "base_uri": "https://localhost:8080/"
        },
        "id": "ucDCupkBB2LU",
        "outputId": "956955da-4b8d-4e6c-9e8c-d87200e7b263"
      },
      "execution_count": 806,
      "outputs": [
        {
          "output_type": "stream",
          "name": "stdout",
          "text": [
            "Count of each profession\n",
            " Artist           2515\n",
            "Healthcare       1331\n",
            "Entertainment     949\n",
            "Engineer          699\n",
            "Doctor            688\n",
            "Lawyer            619\n",
            "Executive         598\n",
            "Marketing         291\n",
            "Homemaker         246\n",
            "Name: Profession, dtype: int64\n"
          ]
        }
      ]
    },
    {
      "cell_type": "code",
      "source": [
        "# Filling the missing values w.r.t other attributes underlying pattern\n",
        "df1.loc[ (pd.isnull(df1[\"Profession\"])) & (df1['Work_Experience'] > 8),\"Profession\"] = 'Homemaker'\n",
        "df1.loc[ (pd.isnull(df1[\"Profession\"])) & (df1['Age'] > 70),\"Profession\"] = 'Lawyer'\n",
        "df1.loc[ (pd.isnull(df1[\"Profession\"])) & (df1['Family_Size'] < 3),\"Profession\"] = 'Lawyer'\n",
        "df1.loc[ (pd.isnull(df1[\"Profession\"])) & (df1['Spending_Score'] == 'Average'),\"Profession\"] = 'Artist'\n",
        "df1.loc[ (pd.isnull(df1[\"Profession\"])) & (df1['Graduated'] == 'Yes'),\"Profession\"] = 'Artist'\n",
        "df1.loc[ (pd.isnull(df1[\"Profession\"])) & (df1['Ever_Married'] == 'Yes'),\"Profession\"] = 'Artist'\n",
        "df1.loc[ (pd.isnull(df1[\"Profession\"])) & (df1['Ever_Married'] == 'No'),\"Profession\"] = 'Healthcare'\n",
        "df1.loc[ (pd.isnull(df1[\"Profession\"])) & (df1['Spending_Score'] == 'High'),\"Profession\"] = 'Executives'"
      ],
      "metadata": {
        "id": "x-tS-8ui-8cd"
      },
      "execution_count": 807,
      "outputs": []
    },
    {
      "cell_type": "code",
      "source": [
        "# Count of segments in each profession\n",
        "ax1 = df1.groupby([\"Profession\"])[\"Segmentation\"].value_counts().unstack().round(3)\n",
        "\n",
        "# Percentage of segments in each profession\n",
        "ax2 = df1.pivot_table(columns='Segmentation',index='Profession',values='ID',aggfunc='count')\n",
        "ax2 = ax2.div(ax2.sum(axis=1), axis = 0).round(2)\n",
        "\n",
        "#count plot\n",
        "fig, ax = plt.subplots(1,2)\n",
        "ax1.plot(kind=\"bar\",ax = ax[0],figsize = (16,5))\n",
        "label = ['Artist','Doctor','Engineer','Entertainment','Executives','Healthcare','Homemaker','Lawyer','Marketing']\n",
        "ax[0].set_xticklabels(labels = label,rotation = 45)\n",
        "\n",
        "#stacked bars\n",
        "ax2.plot(kind=\"bar\",stacked = True,ax = ax[1],figsize = (16,5))\n",
        "ax[1].set_xticklabels(labels = label,rotation = 45)\n",
        "\n",
        "plt.show()"
      ],
      "metadata": {
        "colab": {
          "base_uri": "https://localhost:8080/",
          "height": 0
        },
        "id": "Sr9_kkBPHcwG",
        "outputId": "0628276d-2a85-4a6d-edf1-7a0c3fe4c96a"
      },
      "execution_count": 808,
      "outputs": [
        {
          "output_type": "display_data",
          "data": {
            "text/plain": [
              "<Figure size 1152x360 with 2 Axes>"
            ],
            "image/png": "[encoded data removed]"
          },
          "metadata": {}
        }
      ]
    },
    {
      "cell_type": "markdown",
      "source": [
        "**OBSEVATIONS**\n",
        "\n",
        "Segment A,B and C have major customers from profession:Artist while Segment D have major customers from profession:Healthcare\n",
        "Homemaker is least in all the four segment"
      ],
      "metadata": {
        "id": "Jw8zm7EdC748"
      }
    },
    {
      "cell_type": "markdown",
      "source": [
        "\n",
        "\n",
        "---\n",
        "\n",
        "\n",
        "\n",
        "---\n",
        "\n"
      ],
      "metadata": {
        "id": "hVpK3pYHeOVs"
      }
    },
    {
      "cell_type": "markdown",
      "source": [
        "**Work_Experience**"
      ],
      "metadata": {
        "id": "x4jM7TFLT80U"
      }
    },
    {
      "cell_type": "code",
      "source": [
        "# Replacing NaN with previous values\n",
        "df1['Work_Experience'] = df1['Work_Experience'].fillna(method='pad')"
      ],
      "metadata": {
        "id": "EwZs3awbDJGx"
      },
      "execution_count": 809,
      "outputs": []
    },
    {
      "cell_type": "code",
      "source": [
        "# Looking the distribution of column Work_Experience w.r.t to each segment\n",
        "a = df1[df1.Segmentation =='A'][\"Work_Experience\"]\n",
        "b = df1[df1.Segmentation =='B'][\"Work_Experience\"]\n",
        "c = df1[df1.Segmentation =='C'][\"Work_Experience\"]\n",
        "d = df1[df1.Segmentation =='D'][\"Work_Experience\"]\n",
        "\n",
        "plt.figure(figsize=(15,5))\n",
        "\n",
        "plt.subplot(1,2,1)\n",
        "sns.boxplot(data = df1, x = \"Segmentation\", y=\"Work_Experience\")\n",
        "plt.title('Boxplot')\n",
        "plt.show()"
      ],
      "metadata": {
        "colab": {
          "base_uri": "https://localhost:8080/",
          "height": 0
        },
        "id": "jfGo4VkmDOS2",
        "outputId": "c4fcf988-1648-4b7c-b26b-3cddc23594a4"
      },
      "execution_count": 810,
      "outputs": [
        {
          "output_type": "display_data",
          "data": {
            "text/plain": [
              "<Figure size 1080x360 with 1 Axes>"
            ],
            "image/png": "[encoded data removed]"
          },
          "metadata": {}
        }
      ]
    },
    {
      "cell_type": "markdown",
      "source": [
        "**OBSEVATIONS**\n",
        "\n",
        "Segment D has people with relatively more experienced than other segments while Segment C has people with low experience"
      ],
      "metadata": {
        "id": "TpXs9MJ8Ee_y"
      }
    },
    {
      "cell_type": "code",
      "source": [
        "# Changing the data type\n",
        "df1['Work_Experience'] = df1['Work_Experience'].astype(int)\n",
        "\n",
        "# Dividing the people into 3 category of work experience \n",
        "df1['Work_Exp_Category'] = pd.cut(df1.Work_Experience,bins=[-1,1,7,15],labels=['Low Experience','Medium Experience','High Experience'])"
      ],
      "metadata": {
        "id": "LKWUd1DsD5Wg"
      },
      "execution_count": 811,
      "outputs": []
    },
    {
      "cell_type": "markdown",
      "source": [
        "\n",
        "\n",
        "---\n",
        "\n",
        "\n",
        "\n",
        "---\n",
        "\n"
      ],
      "metadata": {
        "id": "gQRM9a10eRwF"
      }
    },
    {
      "cell_type": "markdown",
      "source": [
        "**Family_Size**"
      ],
      "metadata": {
        "id": "7sXH2eUYUDMj"
      }
    },
    {
      "cell_type": "code",
      "source": [
        "# Filling the missing values w.r.t other attributes underlying pattern\n",
        "df1.loc[ (pd.isnull(df1[\"Family_Size\"])) & (df1['Ever_Married'] == 'Yes'),\"Family_Size\"] = 2.0\n",
        "df1.loc[ (pd.isnull(df1[\"Family_Size\"])) & (df1['Var_1'] == 'Cat_6'),\"Family_Size\"] = 2.0\n",
        "df1.loc[ (pd.isnull(df1[\"Family_Size\"])) & (df1['Graduated'] == 'Yes'),\"Family_Size\"] = 2.0\n",
        "\n",
        "# Fill remaining NaN with previous values\n",
        "df1['Family_Size'] = df1['Family_Size'].fillna(method='pad')"
      ],
      "metadata": {
        "id": "RBOjAW_g-8Ye"
      },
      "execution_count": 812,
      "outputs": []
    },
    {
      "cell_type": "code",
      "source": [
        "# Looking the distribution of column Family Size w.r.t to each segment\n",
        "a = df1[df1.Segmentation =='A'][\"Family_Size\"]\n",
        "b = df1[df1.Segmentation =='B'][\"Family_Size\"]\n",
        "c = df1[df1.Segmentation =='C'][\"Family_Size\"]\n",
        "d = df1[df1.Segmentation =='D'][\"Family_Size\"]\n",
        "\n",
        "plt.figure(figsize=(15,5))\n",
        "\n",
        "plt.subplot(1,2,1)\n",
        "sns.boxplot(data = df1, x = \"Segmentation\", y=\"Family_Size\")\n",
        "plt.title('Boxplot')\n",
        "plt.show()"
      ],
      "metadata": {
        "colab": {
          "base_uri": "https://localhost:8080/",
          "height": 0
        },
        "id": "cRtghvzzFDQR",
        "outputId": "ca5b833d-5755-4c85-c53e-6107659342db"
      },
      "execution_count": 813,
      "outputs": [
        {
          "output_type": "display_data",
          "data": {
            "text/plain": [
              "<Figure size 1080x360 with 1 Axes>"
            ],
            "image/png": "[encoded data removed]"
          },
          "metadata": {}
        }
      ]
    },
    {
      "cell_type": "code",
      "source": [
        "# Changing the data type\n",
        "df1['Family_Size'] = df1['Family_Size'].astype(int)"
      ],
      "metadata": {
        "id": "7eYBkFgO_9p1"
      },
      "execution_count": 814,
      "outputs": []
    },
    {
      "cell_type": "code",
      "source": [
        "# Divide family size into 3 category\n",
        "df1['Family_Size_Category'] = pd.cut(df1.Family_Size,bins=[0,4,6,10],labels=['Small Family','Big Family','Joint Family'])"
      ],
      "metadata": {
        "id": "6dm1R4ruASZz"
      },
      "execution_count": 815,
      "outputs": []
    },
    {
      "cell_type": "markdown",
      "source": [
        "\n",
        "\n",
        "---\n",
        "\n",
        "\n",
        "\n",
        "---\n",
        "\n"
      ],
      "metadata": {
        "id": "KQpBbNRweVBE"
      }
    },
    {
      "cell_type": "markdown",
      "source": [
        "**Age**"
      ],
      "metadata": {
        "id": "S-xrK-vHUKqH"
      }
    },
    {
      "cell_type": "code",
      "source": [
        "# Looking the distribution of column Age Size w.r.t to each segment\n",
        "a = df1[df1.Segmentation =='A'][\"Age\"]\n",
        "b = df1[df1.Segmentation =='B'][\"Age\"]\n",
        "c = df1[df1.Segmentation =='C'][\"Age\"]\n",
        "d = df1[df1.Segmentation =='D'][\"Age\"]\n",
        "\n",
        "plt.figure(figsize=(15,5))\n",
        "\n",
        "plt.subplot(1,2,1)\n",
        "sns.boxplot(data = df1, x = \"Segmentation\", y=\"Age\")\n",
        "plt.title('Boxplot')\n",
        "plt.show()"
      ],
      "metadata": {
        "colab": {
          "base_uri": "https://localhost:8080/",
          "height": 0
        },
        "id": "blmFJ-jVFZ6T",
        "outputId": "c623b2c3-7b89-422d-b8e2-a4ec360cf149"
      },
      "execution_count": 816,
      "outputs": [
        {
          "output_type": "display_data",
          "data": {
            "text/plain": [
              "<Figure size 1080x360 with 1 Axes>"
            ],
            "image/png": "[encoded data removed]"
          },
          "metadata": {}
        }
      ]
    },
    {
      "cell_type": "markdown",
      "source": [
        "**OBSERVATIONS**\n",
        "\n",
        "we can say that people in this segment are belong to 30s i.e. they are younger and also from 'ever_married' distribution it is seen that segment D has maximum number of customers who are singles indicating they are younger.\n",
        "Also segment C has mean age of 49 and we also seen that most cutomers in this segment are married."
      ],
      "metadata": {
        "id": "bYhwVuSCGTlM"
      }
    },
    {
      "cell_type": "code",
      "source": [
        "# Converting the datatype from float to int\n",
        "df['Age'] = df['Age'].astype(int)"
      ],
      "metadata": {
        "id": "c813dSuNFycv"
      },
      "execution_count": 817,
      "outputs": []
    },
    {
      "cell_type": "code",
      "source": [
        "# Divide people in the 4 age group\n",
        "df1['Age_Bin'] = pd.cut(df1.Age,bins=[17,30,45,60,90],labels=['17-30','31-45','46-60','60+'])"
      ],
      "metadata": {
        "id": "8hjtV_w9GfwM"
      },
      "execution_count": 818,
      "outputs": []
    },
    {
      "cell_type": "code",
      "source": [
        "df1.isnull().sum().sum()"
      ],
      "metadata": {
        "colab": {
          "base_uri": "https://localhost:8080/"
        },
        "id": "wp4eH7YhGiEP",
        "outputId": "89ef2833-5593-4187-e31b-425a8a8d26ba"
      },
      "execution_count": 819,
      "outputs": [
        {
          "output_type": "execute_result",
          "data": {
            "text/plain": [
              "0"
            ]
          },
          "metadata": {},
          "execution_count": 819
        }
      ]
    },
    {
      "cell_type": "markdown",
      "source": [
        "****"
      ],
      "metadata": {
        "id": "7rAUT3PkVIBL"
      }
    },
    {
      "cell_type": "markdown",
      "source": [
        "####**CATEGORICAL TO NUMERICAL CONVERSION**"
      ],
      "metadata": {
        "id": "fKYq5QzeVLSO"
      }
    },
    {
      "cell_type": "code",
      "source": [
        "# converting binary variables to numeric\n",
        "df1['Gender'] = df1['Gender'].replace(('Male','Female'),(1,0))\n",
        "df1['Ever_Married'] = df1['Ever_Married'].replace(('Yes','No'),(1,0))\n",
        "df1['Graduated'] = df1['Graduated'].replace(('Yes','No'),(1,0))\n",
        "df1['Spending_Score'] = df1['Spending_Score'].replace(('High','Average','Low'),(3,2,1))\n",
        "\n",
        "# converting nominal variables into dummy variables\n",
        "pf = pd.get_dummies(df1.Profession,prefix='Profession')\n",
        "df1 = pd.concat([df1,pf],axis=1)\n",
        "\n",
        "vr = pd.get_dummies(df1.Var_1,prefix='Var_1')\n",
        "df1 = pd.concat([df1,vr],axis=1)\n",
        "\n",
        "# scaling continuous variables\n",
        "from sklearn.preprocessing import MinMaxScaler\n",
        "scaler = MinMaxScaler()\n",
        "df1[['Age','Work_Experience','Family_Size']] = scaler.fit_transform(df1[['Age','Work_Experience','Family_Size']])\n",
        "\n",
        "df1.drop(['ID','Age_Bin','Profession','Work_Exp_Category','Family_Size_Category','Var_1'], axis=1, inplace=True)"
      ],
      "metadata": {
        "id": "Gxug9P9wLuYh"
      },
      "execution_count": 820,
      "outputs": []
    },
    {
      "cell_type": "code",
      "source": [
        "df1.shape"
      ],
      "metadata": {
        "colab": {
          "base_uri": "https://localhost:8080/"
        },
        "id": "lLmZ1_iBO9Gx",
        "outputId": "ac8fe570-f5eb-4779-bb60-2ed28f18aedf"
      },
      "execution_count": 821,
      "outputs": [
        {
          "output_type": "execute_result",
          "data": {
            "text/plain": [
              "(8049, 24)"
            ]
          },
          "metadata": {},
          "execution_count": 821
        }
      ]
    },
    {
      "cell_type": "code",
      "source": [
        "df1['Segmentation'] = df1['Segmentation'].replace(('A','B','C','D'),(1,2,3,4))"
      ],
      "metadata": {
        "id": "eUrJh2vPS5ei"
      },
      "execution_count": 822,
      "outputs": []
    },
    {
      "cell_type": "code",
      "source": [
        "df1.info()"
      ],
      "metadata": {
        "colab": {
          "base_uri": "https://localhost:8080/"
        },
        "id": "77LZPpUQcNUK",
        "outputId": "0b676e4e-c732-43b4-ed21-b4f5c0da071e"
      },
      "execution_count": 823,
      "outputs": [
        {
          "output_type": "stream",
          "name": "stdout",
          "text": [
            "<class 'pandas.core.frame.DataFrame'>\n",
            "Int64Index: 8049 entries, 0 to 8067\n",
            "Data columns (total 24 columns):\n",
            " #   Column                    Non-Null Count  Dtype  \n",
            "---  ------                    --------------  -----  \n",
            " 0   Gender                    8049 non-null   int64  \n",
            " 1   Ever_Married              8049 non-null   int64  \n",
            " 2   Age                       8049 non-null   float64\n",
            " 3   Graduated                 8049 non-null   int64  \n",
            " 4   Work_Experience           8049 non-null   float64\n",
            " 5   Spending_Score            8049 non-null   int64  \n",
            " 6   Family_Size               8049 non-null   float64\n",
            " 7   Segmentation              8049 non-null   int64  \n",
            " 8   Profession_Artist         8049 non-null   uint8  \n",
            " 9   Profession_Doctor         8049 non-null   uint8  \n",
            " 10  Profession_Engineer       8049 non-null   uint8  \n",
            " 11  Profession_Entertainment  8049 non-null   uint8  \n",
            " 12  Profession_Executive      8049 non-null   uint8  \n",
            " 13  Profession_Healthcare     8049 non-null   uint8  \n",
            " 14  Profession_Homemaker      8049 non-null   uint8  \n",
            " 15  Profession_Lawyer         8049 non-null   uint8  \n",
            " 16  Profession_Marketing      8049 non-null   uint8  \n",
            " 17  Var_1_Cat_1               8049 non-null   uint8  \n",
            " 18  Var_1_Cat_2               8049 non-null   uint8  \n",
            " 19  Var_1_Cat_3               8049 non-null   uint8  \n",
            " 20  Var_1_Cat_4               8049 non-null   uint8  \n",
            " 21  Var_1_Cat_5               8049 non-null   uint8  \n",
            " 22  Var_1_Cat_6               8049 non-null   uint8  \n",
            " 23  Var_1_Cat_7               8049 non-null   uint8  \n",
            "dtypes: float64(3), int64(5), uint8(16)\n",
            "memory usage: 949.8 KB\n"
          ]
        }
      ]
    },
    {
      "cell_type": "markdown",
      "source": [
        "####**OUTLIERS TREATMENT**"
      ],
      "metadata": {
        "id": "2zSNL0prWe3n"
      }
    },
    {
      "cell_type": "markdown",
      "source": [
        "**Age**"
      ],
      "metadata": {
        "id": "Yyy4kuDmc4b4"
      }
    },
    {
      "cell_type": "code",
      "source": [
        "sns.boxplot(df1['Age'],data=df1)"
      ],
      "metadata": {
        "colab": {
          "base_uri": "https://localhost:8080/",
          "height": 0
        },
        "outputId": "7955bfd8-174b-4f06-cb19-a3143a3c790f",
        "id": "NWxlVcmSWe3o"
      },
      "execution_count": 824,
      "outputs": [
        {
          "output_type": "stream",
          "name": "stderr",
          "text": [
            "/usr/local/lib/python3.8/dist-packages/seaborn/_decorators.py:36: FutureWarning: Pass the following variable as a keyword arg: x. From version 0.12, the only valid positional argument will be `data`, and passing other arguments without an explicit keyword will result in an error or misinterpretation.\n",
            "  warnings.warn(\n"
          ]
        },
        {
          "output_type": "execute_result",
          "data": {
            "text/plain": [
              "<AxesSubplot:xlabel='Age'>"
            ]
          },
          "metadata": {},
          "execution_count": 824
        },
        {
          "output_type": "display_data",
          "data": {
            "text/plain": [
              "<Figure size 432x288 with 1 Axes>"
            ],
            "image/png": "[encoded data removed]"
          },
          "metadata": {}
        }
      ]
    },
    {
      "cell_type": "code",
      "source": [
        "#TREATMENT1: Trimming/removing outliers above and below percentiles\n",
        "Q1 = df1['Age'].quantile(0.25)\n",
        "Q3 = df1['Age'].quantile(0.75)\n",
        "IQR = Q3 - Q1\n",
        "whisker_width = 1.5\n",
        "lower_whisker = Q1 -(whisker_width*IQR)\n",
        "upper_whisker = Q3 + (whisker_width*IQR)\n",
        "df1['Age']=np.where(df1['Age']>upper_whisker,upper_whisker,np.where(df1['Age']<lower_whisker,lower_whisker,df1['Age']))"
      ],
      "metadata": {
        "id": "nsovqo_EWe3p"
      },
      "execution_count": 825,
      "outputs": []
    },
    {
      "cell_type": "code",
      "source": [
        "sns.boxplot(df1['Age'],data=df1)"
      ],
      "metadata": {
        "colab": {
          "base_uri": "https://localhost:8080/",
          "height": 0
        },
        "outputId": "9f9f4a4f-4c0b-49a1-a92e-66cadb353381",
        "id": "Ql8gcH-TWe3p"
      },
      "execution_count": 826,
      "outputs": [
        {
          "output_type": "stream",
          "name": "stderr",
          "text": [
            "/usr/local/lib/python3.8/dist-packages/seaborn/_decorators.py:36: FutureWarning: Pass the following variable as a keyword arg: x. From version 0.12, the only valid positional argument will be `data`, and passing other arguments without an explicit keyword will result in an error or misinterpretation.\n",
            "  warnings.warn(\n"
          ]
        },
        {
          "output_type": "execute_result",
          "data": {
            "text/plain": [
              "<AxesSubplot:xlabel='Age'>"
            ]
          },
          "metadata": {},
          "execution_count": 826
        },
        {
          "output_type": "display_data",
          "data": {
            "text/plain": [
              "<Figure size 432x288 with 1 Axes>"
            ],
            "image/png": "[encoded data removed]"
          },
          "metadata": {}
        }
      ]
    },
    {
      "cell_type": "markdown",
      "source": [
        "\n",
        "\n",
        "---\n",
        "\n",
        "\n",
        "\n",
        "---\n",
        "\n"
      ],
      "metadata": {
        "id": "UDk2iSs6eoPy"
      }
    },
    {
      "cell_type": "markdown",
      "source": [
        "**Family_Size**"
      ],
      "metadata": {
        "id": "m4Ch5qD3cvtB"
      }
    },
    {
      "cell_type": "code",
      "source": [
        "sns.boxplot(df1['Family_Size'],data=df1)"
      ],
      "metadata": {
        "colab": {
          "base_uri": "https://localhost:8080/",
          "height": 0
        },
        "outputId": "53b0c04e-167c-4c4c-9f31-aa89294ff4df",
        "id": "I2weH8hlWe3o"
      },
      "execution_count": 827,
      "outputs": [
        {
          "output_type": "stream",
          "name": "stderr",
          "text": [
            "/usr/local/lib/python3.8/dist-packages/seaborn/_decorators.py:36: FutureWarning: Pass the following variable as a keyword arg: x. From version 0.12, the only valid positional argument will be `data`, and passing other arguments without an explicit keyword will result in an error or misinterpretation.\n",
            "  warnings.warn(\n"
          ]
        },
        {
          "output_type": "execute_result",
          "data": {
            "text/plain": [
              "<AxesSubplot:xlabel='Family_Size'>"
            ]
          },
          "metadata": {},
          "execution_count": 827
        },
        {
          "output_type": "display_data",
          "data": {
            "text/plain": [
              "<Figure size 432x288 with 1 Axes>"
            ],
            "image/png": "[encoded data removed]"
          },
          "metadata": {}
        }
      ]
    },
    {
      "cell_type": "code",
      "source": [
        "Q1 = df1['Family_Size'].quantile(0.25)\n",
        "Q3 = df1['Family_Size'].quantile(0.75)\n",
        "IQR = Q3 - Q1\n",
        "whisker_width = 1.5\n",
        "lower_whisker = Q1 -(whisker_width*IQR)\n",
        "upper_whisker = Q3 + (whisker_width*IQR)\n",
        "print(upper_whisker)"
      ],
      "metadata": {
        "colab": {
          "base_uri": "https://localhost:8080/"
        },
        "id": "5bDXxHONY2kI",
        "outputId": "fc9e3574-1652-4d6d-e204-967c3720b74f"
      },
      "execution_count": 828,
      "outputs": [
        {
          "output_type": "stream",
          "name": "stdout",
          "text": [
            "0.75\n"
          ]
        }
      ]
    },
    {
      "cell_type": "code",
      "source": [
        "#TREATMENT2: Replacing outliers with median values\n",
        "median = df1.loc[df1['Family_Size']<0.75, 'Family_Size'].median()\n",
        "df1.loc[df1.Family_Size > 0.75, 'Family_Size'] \n",
        "df1.fillna(median,inplace=True)\n",
        "df1[\"Family_Size\"] = df1[\"Family_Size\"].mask(df1[\"Family_Size\"] >0.75, median)"
      ],
      "metadata": {
        "id": "jYmGf-lhWe3p"
      },
      "execution_count": 829,
      "outputs": []
    },
    {
      "cell_type": "code",
      "source": [
        "sns.boxplot(df1['Family_Size'],data=df1)"
      ],
      "metadata": {
        "colab": {
          "base_uri": "https://localhost:8080/",
          "height": 0
        },
        "outputId": "6b636ef7-9370-4f04-edff-56ac00632c88",
        "id": "P2S3ODm8We3p"
      },
      "execution_count": 830,
      "outputs": [
        {
          "output_type": "stream",
          "name": "stderr",
          "text": [
            "/usr/local/lib/python3.8/dist-packages/seaborn/_decorators.py:36: FutureWarning: Pass the following variable as a keyword arg: x. From version 0.12, the only valid positional argument will be `data`, and passing other arguments without an explicit keyword will result in an error or misinterpretation.\n",
            "  warnings.warn(\n"
          ]
        },
        {
          "output_type": "execute_result",
          "data": {
            "text/plain": [
              "<AxesSubplot:xlabel='Family_Size'>"
            ]
          },
          "metadata": {},
          "execution_count": 830
        },
        {
          "output_type": "display_data",
          "data": {
            "text/plain": [
              "<Figure size 432x288 with 1 Axes>"
            ],
            "image/png": "[encoded data removed]"
          },
          "metadata": {}
        }
      ]
    },
    {
      "cell_type": "markdown",
      "source": [
        "**Now all the data has been cleaned. There is no missing value and columns are in right format.\n",
        "All the ids are unique that is there is no duplicate entry.\n",
        "Created new column: 'Age_Bin', 'Work_Exp_Category' and 'Family_Size_Category'.**"
      ],
      "metadata": {
        "id": "6D1Tj4V1LB8M"
      }
    },
    {
      "cell_type": "markdown",
      "source": [
        "###**MODEL BUILDING AND PREDICTION**"
      ],
      "metadata": {
        "id": "qj8BtC1XVU1h"
      }
    },
    {
      "cell_type": "code",
      "source": [
        "# Separating dependent-independent variables\n",
        "X = df1.drop('Segmentation',axis=1)\n",
        "y = df1['Segmentation']"
      ],
      "metadata": {
        "id": "V8x3NwrmKYA6"
      },
      "execution_count": 831,
      "outputs": []
    },
    {
      "cell_type": "code",
      "source": [
        "X_train, X_test, y_train, y_test = split_data(X, y, test_size=0.2)"
      ],
      "metadata": {
        "id": "JqIj91wkLIbH"
      },
      "execution_count": 832,
      "outputs": []
    },
    {
      "cell_type": "code",
      "source": [
        "X_train.shape,y_train.shape,X_test.shape,y_test.shape"
      ],
      "metadata": {
        "colab": {
          "base_uri": "https://localhost:8080/"
        },
        "id": "v9Xpq-NXLikT",
        "outputId": "6bf4d515-1c58-4f87-cdcf-ba8b96f692ad"
      },
      "execution_count": 833,
      "outputs": [
        {
          "output_type": "execute_result",
          "data": {
            "text/plain": [
              "((6439, 23), (6439,), (1610, 23), (1610,))"
            ]
          },
          "metadata": {},
          "execution_count": 833
        }
      ]
    },
    {
      "cell_type": "code",
      "source": [
        "rfc = RandomForestClassifier(n_trees=50, bootstrap=True, max_features=10, min_samples_leaf=8,random_state=123)\n",
        "rfc.fit(X_train, y_train)\n",
        "y_pred= rfc.predict(X_test)\n",
        "acc_test = rfc.score(X_test, y_test)\n",
        "acc_train = rfc.score(X_train, y_train)\n",
        "print(\"Random Forest model\")\n",
        "print(\"train accuracy: %.2f%%\" % (acc_train*100))\n",
        "print(\"test accuracy:  %.2f%%\" % (acc_test*100))"
      ],
      "metadata": {
        "colab": {
          "base_uri": "https://localhost:8080/"
        },
        "id": "xvu5Thh9NcNL",
        "outputId": "54f56be4-74b2-4a99-f9b5-5239076811fb"
      },
      "execution_count": 836,
      "outputs": [
        {
          "output_type": "stream",
          "name": "stdout",
          "text": [
            "Random Forest model\n",
            "train accuracy: 66.61%\n",
            "test accuracy:  54.47%\n"
          ]
        }
      ]
    }
  ],
  "metadata": {
    "colab": {
      "provenance": [],
      "collapsed_sections": [
        "JNo5kiTv2TNT",
        "0PvMK6cTmtXz",
        "ey-nUbE15SpP",
        "oWo6queMZzqz",
        "uqb3PMP2y5rR",
        "fBbauw5y5oOd",
        "4lpQwO6X2fzz",
        "E9VI9IV4cgBU",
        "7Jfe51LOWEPY",
        "_qyr5JGUTgjd",
        "fKYq5QzeVLSO",
        "2zSNL0prWe3n",
        "qj8BtC1XVU1h"
      ]
    },
    "kernelspec": {
      "display_name": "Python 3",
      "name": "python3"
    }
  },
  "nbformat": 4,
  "nbformat_minor": 0
}